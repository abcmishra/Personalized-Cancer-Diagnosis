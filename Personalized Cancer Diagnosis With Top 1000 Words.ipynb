{
 "cells": [
  {
   "cell_type": "markdown",
   "metadata": {},
   "source": [
    "#                                           Personalized cancer diagnosis"
   ]
  },
  {
   "cell_type": "markdown",
   "metadata": {},
   "source": [
    "# 1. Business Problem"
   ]
  },
  {
   "cell_type": "markdown",
   "metadata": {},
   "source": [
    "# 1.1. Description"
   ]
  },
  {
   "cell_type": "markdown",
   "metadata": {},
   "source": [
    "Source: https://www.kaggle.com/c/msk-redefining-cancer-treatment/\n",
    "\n",
    "Data: Memorial Sloan Kettering Cancer Center (MSKCC)\n",
    "\n",
    "Download training_variants.zip and training_text.zip from Kaggle.\n",
    "\n",
    "Context:\n",
    "Source: https://www.kaggle.com/c/msk-redefining-cancer-treatment/discussion/35336#198462\n",
    "\n",
    "Problem statement : \n",
    "Classify the given genetic variations/mutations based on evidence from text-based clinical literature."
   ]
  },
  {
   "cell_type": "markdown",
   "metadata": {},
   "source": [
    "# 1.2. Source/Useful Links"
   ]
  },
  {
   "cell_type": "code",
   "execution_count": null,
   "metadata": {},
   "outputs": [],
   "source": [
    "Some articles and reference blogs about the problem statement\n",
    "\n",
    "1.https://www.forbes.com/sites/matthewherper/2017/06/03/a-new-cancer-drug-helped-almost-everyone-who-took-it-almost-heres-what-it-teaches-us/#2a44ee2f6b25\n",
    "2.https://www.youtube.com/watch?v=UwbuW7oK8rk\n",
    "3.https://www.youtube.com/watch?v=qxXRKVompI8"
   ]
  },
  {
   "cell_type": "markdown",
   "metadata": {},
   "source": [
    "# 2. Machine Learning Problem Formulation"
   ]
  },
  {
   "cell_type": "markdown",
   "metadata": {},
   "source": [
    "# 2.1. Data"
   ]
  },
  {
   "cell_type": "markdown",
   "metadata": {},
   "source": [
    "# 2.1.1. Data Overview"
   ]
  },
  {
   "cell_type": "code",
   "execution_count": null,
   "metadata": {},
   "outputs": [],
   "source": [
    "1.Source: https://www.kaggle.com/c/msk-redefining-cancer-treatment/data\n",
    "2.We have two data files: one conatins the information about the genetic mutations and the other contains the clinical evidence (text) that human experts/pathologists use to classify the genetic mutations.\n",
    "Both these data files are have a common column called ID\n",
    "3.Data file's information:\n",
    "\n",
    "1.training_variants (ID , Gene, Variations, Class)\n",
    "2.training_text (ID, Text)"
   ]
  },
  {
   "cell_type": "markdown",
   "metadata": {},
   "source": [
    "# 2.1.2. Example Data Point"
   ]
  },
  {
   "cell_type": "markdown",
   "metadata": {},
   "source": [
    "training_variants\n",
    "ID,Gene,Variation,Class\n",
    "0,FAM58A,Truncating Mutations,1 \n",
    "1,CBL,W802*,2 \n",
    "2,CBL,Q249E,2 \n",
    "...\n",
    "training_text\n",
    "ID,Text \n",
    "0||Cyclin-dependent kinases (CDKs) regulate a variety of fundamental cellular processes. CDK10 stands out as one of the last orphan CDKs for which no activating cyclin has been identified and no kinase activity revealed. Previous work has shown that CDK10 silencing increases ETS2 (v-ets erythroblastosis virus E26 oncogene homolog 2)-driven activation of the MAPK pathway, which confers tamoxifen resistance to breast cancer cells. The precise mechanisms by which CDK10 modulates ETS2 activity, and more generally the functions of CDK10, remain elusive. Here we demonstrate that CDK10 is a cyclin-dependent kinase by identifying cyclin M as an activating cyclin. Cyclin M, an orphan cyclin, is the product of FAM58A, whose mutations cause STAR syndrome, a human developmental anomaly whose features include toe syndactyly, telecanthus, and anogenital and renal malformations. We show that STAR syndrome-associated cyclin M mutants are unable to interact with CDK10. Cyclin M silencing phenocopies CDK10 silencing in increasing c-Raf and in conferring tamoxifen resistance to breast cancer cells. CDK10/cyclin M phosphorylates ETS2 in vitro, and in cells it positively controls ETS2 degradation by the proteasome. ETS2 protein levels are increased in cells derived from a STAR patient, and this increase is attributable to decreased cyclin M levels. Altogether, our results reveal an additional regulatory mechanism for ETS2, which plays key roles in cancer and development. They also shed light on the molecular mechanisms underlying STAR syndrome.Cyclin-dependent kinases (CDKs) play a pivotal role in the control of a number of fundamental cellular processes (1). The human genome contains 21 genes encoding proteins that can be considered as members of the CDK family owing to their sequence similarity with bona fide CDKs, those known to be activated by cyclins (2). Although discovered almost 20 y ago (3, 4), CDK10 remains one of the two CDKs without an identified cyclin partner. This knowledge gap has largely impeded the exploration of its biological functions. CDK10 can act as a positive cell cycle regulator in some cells (5, 6) or as a tumor suppressor in others (7, 8). CDK10 interacts with the ETS2 (v-ets erythroblastosis virus E26 oncogene homolog 2) transcription factor and inhibits its transcriptional activity through an unknown mechanism (9). CDK10 knockdown derepresses ETS2, which increases the expression of the c-Raf protein kinase, activates the MAPK pathway, and induces resistance of MCF7 cells to tamoxifen (6). ..."
   ]
  },
  {
   "cell_type": "markdown",
   "metadata": {},
   "source": [
    "# 2.2. Mapping the real-world problem to an ML problem"
   ]
  },
  {
   "cell_type": "markdown",
   "metadata": {},
   "source": [
    "# 2.2.1. Type of Machine Learning Problem"
   ]
  },
  {
   "cell_type": "markdown",
   "metadata": {},
   "source": [
    "There are nine different classes a genetic mutation can be classified into => Multi class classification problem"
   ]
  },
  {
   "cell_type": "markdown",
   "metadata": {},
   "source": [
    "# 2.2.2. Performance Metric"
   ]
  },
  {
   "cell_type": "code",
   "execution_count": null,
   "metadata": {},
   "outputs": [],
   "source": [
    "Source: https://www.kaggle.com/c/msk-redefining-cancer-treatment#evaluation\n",
    "\n",
    "Metric(s):\n",
    "\n",
    "1.Multi class log-loss\n",
    "2.Confusion matrix"
   ]
  },
  {
   "cell_type": "markdown",
   "metadata": {},
   "source": [
    "# 2.2.3. Machine Learing Objectives and Constraints"
   ]
  },
  {
   "cell_type": "code",
   "execution_count": null,
   "metadata": {},
   "outputs": [],
   "source": [
    "Objective: Predict the probability of each data-point belonging to each of the nine classes.\n",
    "\n",
    "Constraints:\n",
    "\n",
    "1.Interpretability\n",
    "2.Class probabilities are needed.\n",
    "3.Penalize the errors in class probabilites => Metric is Log-loss.\n",
    "3.No Latency constraints."
   ]
  },
  {
   "cell_type": "markdown",
   "metadata": {},
   "source": [
    "# 2.3. Train, CV and Test Datasets"
   ]
  },
  {
   "cell_type": "markdown",
   "metadata": {},
   "source": [
    "Split the dataset randomly into three parts train, cross validation and test with 64%,16%, 20% of data respectively"
   ]
  },
  {
   "cell_type": "markdown",
   "metadata": {},
   "source": [
    "# 3. Exploratory Data Analysis"
   ]
  },
  {
   "cell_type": "code",
   "execution_count": 1,
   "metadata": {},
   "outputs": [
    {
     "name": "stderr",
     "output_type": "stream",
     "text": [
      "C:\\Users\\Saurabh\\Anaconda3\\lib\\site-packages\\sklearn\\cross_validation.py:41: DeprecationWarning: This module was deprecated in version 0.18 in favor of the model_selection module into which all the refactored classes and functions are moved. Also note that the interface of the new CV iterators are different from that of this module. This module will be removed in 0.20.\n",
      "  \"This module will be removed in 0.20.\", DeprecationWarning)\n"
     ]
    }
   ],
   "source": [
    "import pandas as pd\n",
    "import matplotlib.pyplot as plt\n",
    "import re\n",
    "import time\n",
    "import warnings\n",
    "import numpy as np\n",
    "from nltk.corpus import stopwords\n",
    "from sklearn.decomposition import TruncatedSVD\n",
    "from sklearn.preprocessing import normalize\n",
    "from sklearn.feature_extraction.text import CountVectorizer\n",
    "from sklearn.manifold import TSNE\n",
    "import seaborn as sns\n",
    "from sklearn.neighbors import KNeighborsClassifier\n",
    "from sklearn.metrics import confusion_matrix\n",
    "from sklearn.metrics.classification import accuracy_score, log_loss\n",
    "from sklearn.feature_extraction.text import TfidfVectorizer\n",
    "from sklearn.linear_model import SGDClassifier\n",
    "from imblearn.over_sampling import SMOTE\n",
    "from collections import Counter\n",
    "from scipy.sparse import hstack\n",
    "from sklearn.multiclass import OneVsRestClassifier\n",
    "from sklearn.svm import SVC\n",
    "from sklearn.cross_validation import StratifiedKFold \n",
    "from collections import Counter, defaultdict\n",
    "from sklearn.calibration import CalibratedClassifierCV\n",
    "from sklearn.naive_bayes import MultinomialNB\n",
    "from sklearn.naive_bayes import GaussianNB\n",
    "from sklearn.model_selection import train_test_split\n",
    "from sklearn.model_selection import GridSearchCV\n",
    "import math\n",
    "from sklearn.metrics import normalized_mutual_info_score\n",
    "from sklearn.ensemble import RandomForestClassifier\n",
    "warnings.filterwarnings(\"ignore\")\n",
    "\n",
    "from mlxtend.classifier import StackingClassifier\n",
    "\n",
    "from sklearn import model_selection\n",
    "from sklearn.linear_model import LogisticRegression"
   ]
  },
  {
   "cell_type": "code",
   "execution_count": 2,
   "metadata": {},
   "outputs": [
    {
     "name": "stdout",
     "output_type": "stream",
     "text": [
      "Number of data points :  3321\n",
      "Number of features :  4\n",
      "Features :  ['ID' 'Gene' 'Variation' 'Class']\n"
     ]
    },
    {
     "data": {
      "text/html": [
       "<div>\n",
       "<style scoped>\n",
       "    .dataframe tbody tr th:only-of-type {\n",
       "        vertical-align: middle;\n",
       "    }\n",
       "\n",
       "    .dataframe tbody tr th {\n",
       "        vertical-align: top;\n",
       "    }\n",
       "\n",
       "    .dataframe thead th {\n",
       "        text-align: right;\n",
       "    }\n",
       "</style>\n",
       "<table border=\"1\" class=\"dataframe\">\n",
       "  <thead>\n",
       "    <tr style=\"text-align: right;\">\n",
       "      <th></th>\n",
       "      <th>ID</th>\n",
       "      <th>Gene</th>\n",
       "      <th>Variation</th>\n",
       "      <th>Class</th>\n",
       "    </tr>\n",
       "  </thead>\n",
       "  <tbody>\n",
       "    <tr>\n",
       "      <th>0</th>\n",
       "      <td>0</td>\n",
       "      <td>FAM58A</td>\n",
       "      <td>Truncating Mutations</td>\n",
       "      <td>1</td>\n",
       "    </tr>\n",
       "    <tr>\n",
       "      <th>1</th>\n",
       "      <td>1</td>\n",
       "      <td>CBL</td>\n",
       "      <td>W802*</td>\n",
       "      <td>2</td>\n",
       "    </tr>\n",
       "    <tr>\n",
       "      <th>2</th>\n",
       "      <td>2</td>\n",
       "      <td>CBL</td>\n",
       "      <td>Q249E</td>\n",
       "      <td>2</td>\n",
       "    </tr>\n",
       "    <tr>\n",
       "      <th>3</th>\n",
       "      <td>3</td>\n",
       "      <td>CBL</td>\n",
       "      <td>N454D</td>\n",
       "      <td>3</td>\n",
       "    </tr>\n",
       "    <tr>\n",
       "      <th>4</th>\n",
       "      <td>4</td>\n",
       "      <td>CBL</td>\n",
       "      <td>L399V</td>\n",
       "      <td>4</td>\n",
       "    </tr>\n",
       "  </tbody>\n",
       "</table>\n",
       "</div>"
      ],
      "text/plain": [
       "   ID    Gene             Variation  Class\n",
       "0   0  FAM58A  Truncating Mutations      1\n",
       "1   1     CBL                 W802*      2\n",
       "2   2     CBL                 Q249E      2\n",
       "3   3     CBL                 N454D      3\n",
       "4   4     CBL                 L399V      4"
      ]
     },
     "execution_count": 2,
     "metadata": {},
     "output_type": "execute_result"
    }
   ],
   "source": [
    "data = pd.read_csv('training_variants')\n",
    "print('Number of data points : ', data.shape[0])\n",
    "print('Number of features : ', data.shape[1])\n",
    "print('Features : ', data.columns.values)\n",
    "data.head()"
   ]
  },
  {
   "cell_type": "markdown",
   "metadata": {},
   "source": [
    "training/training_variants is a comma separated file containing the description of the genetic mutations used for training. \n",
    "Fields are\n",
    "\n",
    "1.ID : the id of the row used to link the mutation to the clinical evidence\n",
    "2.Gene : the gene where this genetic mutation is located\n",
    "3.Variation : the aminoacid change for this mutations\n",
    "4.Class : 1-9 the class this genetic mutation has been classified on"
   ]
  },
  {
   "cell_type": "markdown",
   "metadata": {},
   "source": [
    "# 3.1.2. Reading Text Data"
   ]
  },
  {
   "cell_type": "code",
   "execution_count": 3,
   "metadata": {},
   "outputs": [
    {
     "name": "stdout",
     "output_type": "stream",
     "text": [
      "Number of data points :  3321\n",
      "Number of features :  2\n",
      "Features :  ['ID' 'TEXT']\n"
     ]
    },
    {
     "data": {
      "text/html": [
       "<div>\n",
       "<style scoped>\n",
       "    .dataframe tbody tr th:only-of-type {\n",
       "        vertical-align: middle;\n",
       "    }\n",
       "\n",
       "    .dataframe tbody tr th {\n",
       "        vertical-align: top;\n",
       "    }\n",
       "\n",
       "    .dataframe thead th {\n",
       "        text-align: right;\n",
       "    }\n",
       "</style>\n",
       "<table border=\"1\" class=\"dataframe\">\n",
       "  <thead>\n",
       "    <tr style=\"text-align: right;\">\n",
       "      <th></th>\n",
       "      <th>ID</th>\n",
       "      <th>TEXT</th>\n",
       "    </tr>\n",
       "  </thead>\n",
       "  <tbody>\n",
       "    <tr>\n",
       "      <th>0</th>\n",
       "      <td>0</td>\n",
       "      <td>Cyclin-dependent kinases (CDKs) regulate a var...</td>\n",
       "    </tr>\n",
       "    <tr>\n",
       "      <th>1</th>\n",
       "      <td>1</td>\n",
       "      <td>Abstract Background  Non-small cell lung canc...</td>\n",
       "    </tr>\n",
       "    <tr>\n",
       "      <th>2</th>\n",
       "      <td>2</td>\n",
       "      <td>Abstract Background  Non-small cell lung canc...</td>\n",
       "    </tr>\n",
       "    <tr>\n",
       "      <th>3</th>\n",
       "      <td>3</td>\n",
       "      <td>Recent evidence has demonstrated that acquired...</td>\n",
       "    </tr>\n",
       "    <tr>\n",
       "      <th>4</th>\n",
       "      <td>4</td>\n",
       "      <td>Oncogenic mutations in the monomeric Casitas B...</td>\n",
       "    </tr>\n",
       "  </tbody>\n",
       "</table>\n",
       "</div>"
      ],
      "text/plain": [
       "   ID                                               TEXT\n",
       "0   0  Cyclin-dependent kinases (CDKs) regulate a var...\n",
       "1   1   Abstract Background  Non-small cell lung canc...\n",
       "2   2   Abstract Background  Non-small cell lung canc...\n",
       "3   3  Recent evidence has demonstrated that acquired...\n",
       "4   4  Oncogenic mutations in the monomeric Casitas B..."
      ]
     },
     "execution_count": 3,
     "metadata": {},
     "output_type": "execute_result"
    }
   ],
   "source": [
    "# note the seprator in this file\n",
    "data_text =pd.read_csv(\"training_text\",sep=\"\\|\\|\",engine=\"python\",names=[\"ID\",\"TEXT\"],skiprows=1)\n",
    "print('Number of data points : ', data_text.shape[0])\n",
    "print('Number of features : ', data_text.shape[1])\n",
    "print('Features : ', data_text.columns.values)\n",
    "data_text.head()"
   ]
  },
  {
   "cell_type": "markdown",
   "metadata": {},
   "source": [
    "# 3.1.3. Preprocessing of text"
   ]
  },
  {
   "cell_type": "code",
   "execution_count": 4,
   "metadata": {},
   "outputs": [],
   "source": [
    "# loading stop words from nltk library\n",
    "stop_words = set(stopwords.words('english'))\n",
    "\n",
    "\n",
    "def nlp_preprocessing(total_text, index, column):\n",
    "    if type(total_text) is not int:\n",
    "        string = \"\"\n",
    "        # replace every special char with space\n",
    "        total_text = re.sub('[^a-zA-Z0-9\\n]', ' ', total_text)\n",
    "        # replace multiple spaces with single space\n",
    "        total_text = re.sub('\\s+',' ', total_text)\n",
    "        # converting all the chars into lower-case.\n",
    "        total_text = total_text.lower()\n",
    "        \n",
    "        for word in total_text.split():\n",
    "        # if the word is a not a stop word then retain that word from the data\n",
    "            if not word in stop_words:\n",
    "                string += word + \" \"\n",
    "        \n",
    "        data_text[column][index] = string"
   ]
  },
  {
   "cell_type": "code",
   "execution_count": 5,
   "metadata": {},
   "outputs": [
    {
     "name": "stdout",
     "output_type": "stream",
     "text": [
      "there is no text description for id: 1109\n",
      "there is no text description for id: 1277\n",
      "there is no text description for id: 1407\n",
      "there is no text description for id: 1639\n",
      "there is no text description for id: 2755\n",
      "Time took for preprocessing the text : 145.13455629318113 seconds\n"
     ]
    }
   ],
   "source": [
    "#text processing stage.\n",
    "start_time = time.clock()\n",
    "for index, row in data_text.iterrows():\n",
    "    if type(row['TEXT']) is str:\n",
    "        nlp_preprocessing(row['TEXT'], index, 'TEXT')\n",
    "    else:\n",
    "        print(\"there is no text description for id:\",index)\n",
    "print('Time took for preprocessing the text :',time.clock() - start_time, \"seconds\")"
   ]
  },
  {
   "cell_type": "code",
   "execution_count": 6,
   "metadata": {},
   "outputs": [
    {
     "data": {
      "text/html": [
       "<div>\n",
       "<style scoped>\n",
       "    .dataframe tbody tr th:only-of-type {\n",
       "        vertical-align: middle;\n",
       "    }\n",
       "\n",
       "    .dataframe tbody tr th {\n",
       "        vertical-align: top;\n",
       "    }\n",
       "\n",
       "    .dataframe thead th {\n",
       "        text-align: right;\n",
       "    }\n",
       "</style>\n",
       "<table border=\"1\" class=\"dataframe\">\n",
       "  <thead>\n",
       "    <tr style=\"text-align: right;\">\n",
       "      <th></th>\n",
       "      <th>ID</th>\n",
       "      <th>Gene</th>\n",
       "      <th>Variation</th>\n",
       "      <th>Class</th>\n",
       "      <th>TEXT</th>\n",
       "    </tr>\n",
       "  </thead>\n",
       "  <tbody>\n",
       "    <tr>\n",
       "      <th>0</th>\n",
       "      <td>0</td>\n",
       "      <td>FAM58A</td>\n",
       "      <td>Truncating Mutations</td>\n",
       "      <td>1</td>\n",
       "      <td>cyclin dependent kinases cdks regulate variety...</td>\n",
       "    </tr>\n",
       "    <tr>\n",
       "      <th>1</th>\n",
       "      <td>1</td>\n",
       "      <td>CBL</td>\n",
       "      <td>W802*</td>\n",
       "      <td>2</td>\n",
       "      <td>abstract background non small cell lung cancer...</td>\n",
       "    </tr>\n",
       "    <tr>\n",
       "      <th>2</th>\n",
       "      <td>2</td>\n",
       "      <td>CBL</td>\n",
       "      <td>Q249E</td>\n",
       "      <td>2</td>\n",
       "      <td>abstract background non small cell lung cancer...</td>\n",
       "    </tr>\n",
       "    <tr>\n",
       "      <th>3</th>\n",
       "      <td>3</td>\n",
       "      <td>CBL</td>\n",
       "      <td>N454D</td>\n",
       "      <td>3</td>\n",
       "      <td>recent evidence demonstrated acquired uniparen...</td>\n",
       "    </tr>\n",
       "    <tr>\n",
       "      <th>4</th>\n",
       "      <td>4</td>\n",
       "      <td>CBL</td>\n",
       "      <td>L399V</td>\n",
       "      <td>4</td>\n",
       "      <td>oncogenic mutations monomeric casitas b lineag...</td>\n",
       "    </tr>\n",
       "  </tbody>\n",
       "</table>\n",
       "</div>"
      ],
      "text/plain": [
       "   ID    Gene             Variation  Class  \\\n",
       "0   0  FAM58A  Truncating Mutations      1   \n",
       "1   1     CBL                 W802*      2   \n",
       "2   2     CBL                 Q249E      2   \n",
       "3   3     CBL                 N454D      3   \n",
       "4   4     CBL                 L399V      4   \n",
       "\n",
       "                                                TEXT  \n",
       "0  cyclin dependent kinases cdks regulate variety...  \n",
       "1  abstract background non small cell lung cancer...  \n",
       "2  abstract background non small cell lung cancer...  \n",
       "3  recent evidence demonstrated acquired uniparen...  \n",
       "4  oncogenic mutations monomeric casitas b lineag...  "
      ]
     },
     "execution_count": 6,
     "metadata": {},
     "output_type": "execute_result"
    }
   ],
   "source": [
    "#merging both gene_variations and text data based on ID\n",
    "result = pd.merge(data, data_text,on='ID', how='left')\n",
    "result.head()"
   ]
  },
  {
   "cell_type": "code",
   "execution_count": 7,
   "metadata": {},
   "outputs": [
    {
     "data": {
      "text/html": [
       "<div>\n",
       "<style scoped>\n",
       "    .dataframe tbody tr th:only-of-type {\n",
       "        vertical-align: middle;\n",
       "    }\n",
       "\n",
       "    .dataframe tbody tr th {\n",
       "        vertical-align: top;\n",
       "    }\n",
       "\n",
       "    .dataframe thead th {\n",
       "        text-align: right;\n",
       "    }\n",
       "</style>\n",
       "<table border=\"1\" class=\"dataframe\">\n",
       "  <thead>\n",
       "    <tr style=\"text-align: right;\">\n",
       "      <th></th>\n",
       "      <th>ID</th>\n",
       "      <th>Gene</th>\n",
       "      <th>Variation</th>\n",
       "      <th>Class</th>\n",
       "      <th>TEXT</th>\n",
       "    </tr>\n",
       "  </thead>\n",
       "  <tbody>\n",
       "    <tr>\n",
       "      <th>1109</th>\n",
       "      <td>1109</td>\n",
       "      <td>FANCA</td>\n",
       "      <td>S1088F</td>\n",
       "      <td>1</td>\n",
       "      <td>NaN</td>\n",
       "    </tr>\n",
       "    <tr>\n",
       "      <th>1277</th>\n",
       "      <td>1277</td>\n",
       "      <td>ARID5B</td>\n",
       "      <td>Truncating Mutations</td>\n",
       "      <td>1</td>\n",
       "      <td>NaN</td>\n",
       "    </tr>\n",
       "    <tr>\n",
       "      <th>1407</th>\n",
       "      <td>1407</td>\n",
       "      <td>FGFR3</td>\n",
       "      <td>K508M</td>\n",
       "      <td>6</td>\n",
       "      <td>NaN</td>\n",
       "    </tr>\n",
       "    <tr>\n",
       "      <th>1639</th>\n",
       "      <td>1639</td>\n",
       "      <td>FLT1</td>\n",
       "      <td>Amplification</td>\n",
       "      <td>6</td>\n",
       "      <td>NaN</td>\n",
       "    </tr>\n",
       "    <tr>\n",
       "      <th>2755</th>\n",
       "      <td>2755</td>\n",
       "      <td>BRAF</td>\n",
       "      <td>G596C</td>\n",
       "      <td>7</td>\n",
       "      <td>NaN</td>\n",
       "    </tr>\n",
       "  </tbody>\n",
       "</table>\n",
       "</div>"
      ],
      "text/plain": [
       "        ID    Gene             Variation  Class TEXT\n",
       "1109  1109   FANCA                S1088F      1  NaN\n",
       "1277  1277  ARID5B  Truncating Mutations      1  NaN\n",
       "1407  1407   FGFR3                 K508M      6  NaN\n",
       "1639  1639    FLT1         Amplification      6  NaN\n",
       "2755  2755    BRAF                 G596C      7  NaN"
      ]
     },
     "execution_count": 7,
     "metadata": {},
     "output_type": "execute_result"
    }
   ],
   "source": [
    "result[result.isnull().any(axis=1)]"
   ]
  },
  {
   "cell_type": "code",
   "execution_count": 8,
   "metadata": {},
   "outputs": [],
   "source": [
    "result.loc[result['TEXT'].isnull(),'TEXT'] = result['Gene'] +' '+result['Variation']"
   ]
  },
  {
   "cell_type": "code",
   "execution_count": 9,
   "metadata": {},
   "outputs": [
    {
     "data": {
      "text/html": [
       "<div>\n",
       "<style scoped>\n",
       "    .dataframe tbody tr th:only-of-type {\n",
       "        vertical-align: middle;\n",
       "    }\n",
       "\n",
       "    .dataframe tbody tr th {\n",
       "        vertical-align: top;\n",
       "    }\n",
       "\n",
       "    .dataframe thead th {\n",
       "        text-align: right;\n",
       "    }\n",
       "</style>\n",
       "<table border=\"1\" class=\"dataframe\">\n",
       "  <thead>\n",
       "    <tr style=\"text-align: right;\">\n",
       "      <th></th>\n",
       "      <th>ID</th>\n",
       "      <th>Gene</th>\n",
       "      <th>Variation</th>\n",
       "      <th>Class</th>\n",
       "      <th>TEXT</th>\n",
       "    </tr>\n",
       "  </thead>\n",
       "  <tbody>\n",
       "    <tr>\n",
       "      <th>1109</th>\n",
       "      <td>1109</td>\n",
       "      <td>FANCA</td>\n",
       "      <td>S1088F</td>\n",
       "      <td>1</td>\n",
       "      <td>FANCA S1088F</td>\n",
       "    </tr>\n",
       "  </tbody>\n",
       "</table>\n",
       "</div>"
      ],
      "text/plain": [
       "        ID   Gene Variation  Class          TEXT\n",
       "1109  1109  FANCA    S1088F      1  FANCA S1088F"
      ]
     },
     "execution_count": 9,
     "metadata": {},
     "output_type": "execute_result"
    }
   ],
   "source": [
    "result[result['ID']==1109]"
   ]
  },
  {
   "cell_type": "markdown",
   "metadata": {},
   "source": [
    "# 3.1.4. Test, Train and Cross Validation Split"
   ]
  },
  {
   "cell_type": "markdown",
   "metadata": {},
   "source": [
    "# 3.1.4.1. Splitting data into train, test and cross validation (64:20:16)"
   ]
  },
  {
   "cell_type": "code",
   "execution_count": 10,
   "metadata": {},
   "outputs": [],
   "source": [
    "y_true = result['Class'].values\n",
    "result.Gene      = result.Gene.str.replace('\\s+', '_')\n",
    "result.Variation = result.Variation.str.replace('\\s+', '_')\n",
    "\n",
    "# split the data into test and train by maintaining same distribution of output varaible 'y_true' [stratify=y_true]\n",
    "X_train, test_df, y_train, y_test = train_test_split(result, y_true, stratify=y_true, test_size=0.2)\n",
    "# split the train data into train and cross validation by maintaining same distribution of output varaible 'y_train' [stratify=y_train]\n",
    "train_df, cv_df, y_train, y_cv = train_test_split(X_train, y_train, stratify=y_train, test_size=0.2)"
   ]
  },
  {
   "cell_type": "markdown",
   "metadata": {},
   "source": [
    "We split the data into train, test and cross validation data sets, preserving the ratio of class distribution in the original data set"
   ]
  },
  {
   "cell_type": "code",
   "execution_count": 11,
   "metadata": {},
   "outputs": [
    {
     "name": "stdout",
     "output_type": "stream",
     "text": [
      "Number of data points in train data: 2124\n",
      "Number of data points in test data: 665\n",
      "Number of data points in cross validation data: 532\n"
     ]
    }
   ],
   "source": [
    "print('Number of data points in train data:', train_df.shape[0])\n",
    "print('Number of data points in test data:', test_df.shape[0])\n",
    "print('Number of data points in cross validation data:', cv_df.shape[0])"
   ]
  },
  {
   "cell_type": "markdown",
   "metadata": {},
   "source": [
    "# 3.1.4.2. Distribution of y_i's in Train, Test and Cross Validation datasets"
   ]
  },
  {
   "cell_type": "code",
   "execution_count": 12,
   "metadata": {},
   "outputs": [
    {
     "data": {
      "image/png": "[encoded data removed]",
      "text/plain": [
       "<Figure size 432x288 with 1 Axes>"
      ]
     },
     "metadata": {},
     "output_type": "display_data"
    },
    {
     "name": "stdout",
     "output_type": "stream",
     "text": [
      "Number of data points in class 7 : 609 ( 28.672 %)\n",
      "Number of data points in class 4 : 439 ( 20.669 %)\n",
      "Number of data points in class 1 : 363 ( 17.09 %)\n",
      "Number of data points in class 2 : 289 ( 13.606 %)\n",
      "Number of data points in class 6 : 176 ( 8.286 %)\n",
      "Number of data points in class 5 : 155 ( 7.298 %)\n",
      "Number of data points in class 3 : 57 ( 2.684 %)\n",
      "Number of data points in class 9 : 24 ( 1.13 %)\n",
      "Number of data points in class 8 : 12 ( 0.565 %)\n",
      "--------------------------------------------------------------------------------\n"
     ]
    },
    {
     "data": {
      "image/png": "[encoded data removed]",
      "text/plain": [
       "<Figure size 432x288 with 1 Axes>"
      ]
     },
     "metadata": {},
     "output_type": "display_data"
    },
    {
     "name": "stdout",
     "output_type": "stream",
     "text": [
      "Number of data points in class 7 : 191 ( 28.722 %)\n",
      "Number of data points in class 4 : 137 ( 20.602 %)\n",
      "Number of data points in class 1 : 114 ( 17.143 %)\n",
      "Number of data points in class 2 : 91 ( 13.684 %)\n",
      "Number of data points in class 6 : 55 ( 8.271 %)\n",
      "Number of data points in class 5 : 48 ( 7.218 %)\n",
      "Number of data points in class 3 : 18 ( 2.707 %)\n",
      "Number of data points in class 9 : 7 ( 1.053 %)\n",
      "Number of data points in class 8 : 4 ( 0.602 %)\n",
      "--------------------------------------------------------------------------------\n"
     ]
    },
    {
     "data": {
      "image/png": "[encoded data removed]",
      "text/plain": [
       "<Figure size 432x288 with 1 Axes>"
      ]
     },
     "metadata": {},
     "output_type": "display_data"
    },
    {
     "name": "stdout",
     "output_type": "stream",
     "text": [
      "Number of data points in class 7 : 153 ( 28.759 %)\n",
      "Number of data points in class 4 : 110 ( 20.677 %)\n",
      "Number of data points in class 1 : 91 ( 17.105 %)\n",
      "Number of data points in class 2 : 72 ( 13.534 %)\n",
      "Number of data points in class 6 : 44 ( 8.271 %)\n",
      "Number of data points in class 5 : 39 ( 7.331 %)\n",
      "Number of data points in class 3 : 14 ( 2.632 %)\n",
      "Number of data points in class 9 : 6 ( 1.128 %)\n",
      "Number of data points in class 8 : 3 ( 0.564 %)\n"
     ]
    }
   ],
   "source": [
    "# it returns a dict, keys as class labels and values as the number of data points in that class\n",
    "train_class_distribution = train_df['Class'].value_counts().sortlevel()\n",
    "test_class_distribution = test_df['Class'].value_counts().sortlevel()\n",
    "cv_class_distribution = cv_df['Class'].value_counts().sortlevel()\n",
    "\n",
    "my_colors = 'rgbkymc'\n",
    "train_class_distribution.plot(kind='bar')\n",
    "plt.xlabel('Class')\n",
    "plt.ylabel('Data points per Class')\n",
    "plt.title('Distribution of yi in train data')\n",
    "plt.grid()\n",
    "plt.show()\n",
    "\n",
    "# ref: argsort https://docs.scipy.org/doc/numpy/reference/generated/numpy.argsort.html\n",
    "# -(train_class_distribution.values): the minus sign will give us in decreasing order\n",
    "sorted_yi = np.argsort(-train_class_distribution.values)\n",
    "for i in sorted_yi:\n",
    "    print('Number of data points in class', i+1, ':',train_class_distribution.values[i], '(', np.round((train_class_distribution.values[i]/train_df.shape[0]*100), 3), '%)')\n",
    "\n",
    "    \n",
    "print('-'*80)\n",
    "my_colors = 'rgbkymc'\n",
    "test_class_distribution.plot(kind='bar')\n",
    "plt.xlabel('Class')\n",
    "plt.ylabel('Data points per Class')\n",
    "plt.title('Distribution of yi in test data')\n",
    "plt.grid()\n",
    "plt.show()\n",
    "\n",
    "# ref: argsort https://docs.scipy.org/doc/numpy/reference/generated/numpy.argsort.html\n",
    "# -(train_class_distribution.values): the minus sign will give us in decreasing order\n",
    "sorted_yi = np.argsort(-test_class_distribution.values)\n",
    "for i in sorted_yi:\n",
    "    print('Number of data points in class', i+1, ':',test_class_distribution.values[i], '(', np.round((test_class_distribution.values[i]/test_df.shape[0]*100), 3), '%)')\n",
    "\n",
    "print('-'*80)\n",
    "my_colors = 'rgbkymc'\n",
    "cv_class_distribution.plot(kind='bar')\n",
    "plt.xlabel('Class')\n",
    "plt.ylabel('Data points per Class')\n",
    "plt.title('Distribution of yi in cross validation data')\n",
    "plt.grid()\n",
    "plt.show()\n",
    "\n",
    "# ref: argsort https://docs.scipy.org/doc/numpy/reference/generated/numpy.argsort.html\n",
    "# -(train_class_distribution.values): the minus sign will give us in decreasing order\n",
    "sorted_yi = np.argsort(-train_class_distribution.values)\n",
    "for i in sorted_yi:\n",
    "    print('Number of data points in class', i+1, ':',cv_class_distribution.values[i], '(', np.round((cv_class_distribution.values[i]/cv_df.shape[0]*100), 3), '%)')"
   ]
  },
  {
   "cell_type": "markdown",
   "metadata": {},
   "source": [
    "# 3.2 Prediction using a 'Random' Model"
   ]
  },
  {
   "cell_type": "markdown",
   "metadata": {},
   "source": [
    "In a 'Random' Model, we generate the NINE class probabilites randomly such that they sum to 1."
   ]
  },
  {
   "cell_type": "code",
   "execution_count": 13,
   "metadata": {},
   "outputs": [],
   "source": [
    "# This function plots the confusion matrices given y_i, y_i_hat.\n",
    "def plot_confusion_matrix(test_y, predict_y):\n",
    "    C = confusion_matrix(test_y, predict_y)\n",
    "    # C = 9,9 matrix, each cell (i,j) represents number of points of class i are predicted class j\n",
    "    \n",
    "    A =(((C.T)/(C.sum(axis=1))).T)\n",
    "    #divid each element of the confusion matrix with the sum of elements in that column\n",
    "    \n",
    "    # C = [[1, 2],\n",
    "    #     [3, 4]]\n",
    "    # C.T = [[1, 3],\n",
    "    #        [2, 4]]\n",
    "    # C.sum(axis = 1)  axis=0 corresonds to columns and axis=1 corresponds to rows in two diamensional array\n",
    "    # C.sum(axix =1) = [[3, 7]]\n",
    "    # ((C.T)/(C.sum(axis=1))) = [[1/3, 3/7]\n",
    "    #                           [2/3, 4/7]]\n",
    "\n",
    "    # ((C.T)/(C.sum(axis=1))).T = [[1/3, 2/3]\n",
    "    #                           [3/7, 4/7]]\n",
    "    # sum of row elements = 1\n",
    "    B =(C/C.sum(axis=0))\n",
    "    #divid each element of the confusion matrix with the sum of elements in that row\n",
    "    # C = [[1, 2],\n",
    "    #     [3, 4]]\n",
    "    # C.sum(axis = 0)  axis=0 corresonds to columns and axis=1 corresponds to rows in two diamensional array\n",
    "    # C.sum(axix =0) = [[4, 6]]\n",
    "    # (C/C.sum(axis=0)) = [[1/4, 2/6],\n",
    "    #                      [3/4, 4/6]] \n",
    "    \n",
    "    labels = [1,2,3,4,5,6,7,8,9]\n",
    "    # representing A in heatmap format\n",
    "    print(\"-\"*20, \"Confusion matrix\", \"-\"*20)\n",
    "    plt.figure(figsize=(20,7))\n",
    "    sns.heatmap(C, annot=True, cmap=\"YlGnBu\", fmt=\".3f\", xticklabels=labels, yticklabels=labels)\n",
    "    plt.xlabel('Predicted Class')\n",
    "    plt.ylabel('Original Class')\n",
    "    plt.show()\n",
    "\n",
    "    print(\"-\"*20, \"Precision matrix (Columm Sum=1)\", \"-\"*20)\n",
    "    plt.figure(figsize=(20,7))\n",
    "    sns.heatmap(B, annot=True, cmap=\"YlGnBu\", fmt=\".3f\", xticklabels=labels, yticklabels=labels)\n",
    "    plt.xlabel('Predicted Class')\n",
    "    plt.ylabel('Original Class')\n",
    "    plt.show()\n",
    "    \n",
    "    # representing B in heatmap format\n",
    "    print(\"-\"*20, \"Recall matrix (Row sum=1)\", \"-\"*20)\n",
    "    plt.figure(figsize=(20,7))\n",
    "    sns.heatmap(A, annot=True, cmap=\"YlGnBu\", fmt=\".3f\", xticklabels=labels, yticklabels=labels)\n",
    "    plt.xlabel('Predicted Class')\n",
    "    plt.ylabel('Original Class')\n",
    "    plt.show()"
   ]
  },
  {
   "cell_type": "code",
   "execution_count": 14,
   "metadata": {},
   "outputs": [
    {
     "name": "stdout",
     "output_type": "stream",
     "text": [
      "Log loss on Cross Validation Data using Random Model 2.4707739436850926\n",
      "Log loss on Test Data using Random Model 2.526548611006996\n",
      "-------------------- Confusion matrix --------------------\n"
     ]
    },
    {
     "data": {
      "image/png": "[encoded data removed]",
      "text/plain": [
       "<Figure size 1440x504 with 2 Axes>"
      ]
     },
     "metadata": {},
     "output_type": "display_data"
    },
    {
     "name": "stdout",
     "output_type": "stream",
     "text": [
      "-------------------- Precision matrix (Columm Sum=1) --------------------\n"
     ]
    },
    {
     "data": {
      "image/png": "[encoded data removed]",
      "text/plain": [
       "<Figure size 1440x504 with 2 Axes>"
      ]
     },
     "metadata": {},
     "output_type": "display_data"
    },
    {
     "name": "stdout",
     "output_type": "stream",
     "text": [
      "-------------------- Recall matrix (Row sum=1) --------------------\n"
     ]
    },
    {
     "data": {
      "image/png": "[encoded data removed]",
      "text/plain": [
       "<Figure size 1440x504 with 2 Axes>"
      ]
     },
     "metadata": {},
     "output_type": "display_data"
    }
   ],
   "source": [
    "# we need to generate 9 numbers and the sum of numbers should be 1\n",
    "# one solution is to genarate 9 numbers and divide each of the numbers by their sum\n",
    "# ref: https://stackoverflow.com/a/18662466/4084039\n",
    "test_data_len = test_df.shape[0]\n",
    "cv_data_len = cv_df.shape[0]\n",
    "\n",
    "# we create a output array that has exactly same size as the CV data\n",
    "cv_predicted_y = np.zeros((cv_data_len,9))\n",
    "for i in range(cv_data_len):\n",
    "    rand_probs = np.random.rand(1,9)\n",
    "    cv_predicted_y[i] = ((rand_probs/sum(sum(rand_probs)))[0])\n",
    "print(\"Log loss on Cross Validation Data using Random Model\",log_loss(y_cv,cv_predicted_y, eps=1e-15))\n",
    "\n",
    "\n",
    "# Test-Set error.\n",
    "#we create a output array that has exactly same as the test data\n",
    "test_predicted_y = np.zeros((test_data_len,9))\n",
    "for i in range(test_data_len):\n",
    "    rand_probs = np.random.rand(1,9)\n",
    "    test_predicted_y[i] = ((rand_probs/sum(sum(rand_probs)))[0])\n",
    "print(\"Log loss on Test Data using Random Model\",log_loss(y_test,test_predicted_y, eps=1e-15))\n",
    "\n",
    "predicted_y =np.argmax(test_predicted_y, axis=1)\n",
    "plot_confusion_matrix(y_test, predicted_y+1)"
   ]
  },
  {
   "cell_type": "markdown",
   "metadata": {},
   "source": [
    "# 3.3 Univariate Analysis"
   ]
  },
  {
   "cell_type": "code",
   "execution_count": 15,
   "metadata": {},
   "outputs": [],
   "source": [
    "# code for response coding with Laplace smoothing.\n",
    "# alpha : used for laplace smoothing\n",
    "# feature: ['gene', 'variation']\n",
    "# df: ['train_df', 'test_df', 'cv_df']\n",
    "# algorithm\n",
    "# ----------\n",
    "# Consider all unique values and the number of occurances of given feature in train data dataframe\n",
    "# build a vector (1*9) , the first element = (number of times it occured in class1 + 10*alpha / number of time it occurred in total data+90*alpha)\n",
    "# gv_dict is like a look up table, for every gene it store a (1*9) representation of it\n",
    "# for a value of feature in df:\n",
    "# if it is in train data:\n",
    "# we add the vector that was stored in 'gv_dict' look up table to 'gv_fea'\n",
    "# if it is not there is train:\n",
    "# we add [1/9, 1/9, 1/9, 1/9,1/9, 1/9, 1/9, 1/9, 1/9] to 'gv_fea'\n",
    "# return 'gv_fea'\n",
    "# ----------------------\n",
    "\n",
    "# get_gv_fea_dict: Get Gene varaition Feature Dict\n",
    "def get_gv_fea_dict(alpha, feature, df):\n",
    "    # value_count: it contains a dict like\n",
    "    # print(train_df['Gene'].value_counts())\n",
    "    # output:\n",
    "    #        {BRCA1      174\n",
    "    #         TP53       106\n",
    "    #         EGFR        86\n",
    "    #         BRCA2       75\n",
    "    #         PTEN        69\n",
    "    #         KIT         61\n",
    "    #         BRAF        60\n",
    "    #         ERBB2       47\n",
    "    #         PDGFRA      46\n",
    "    #         ...}\n",
    "    # print(train_df['Variation'].value_counts())\n",
    "    # output:\n",
    "    # {\n",
    "    # Truncating_Mutations                     63\n",
    "    # Deletion                                 43\n",
    "    # Amplification                            43\n",
    "    # Fusions                                  22\n",
    "    # Overexpression                            3\n",
    "    # E17K                                      3\n",
    "    # Q61L                                      3\n",
    "    # S222D                                     2\n",
    "    # P130S                                     2\n",
    "    # ...\n",
    "    # }\n",
    "    value_count = train_df[feature].value_counts()\n",
    "    \n",
    "    # gv_dict : Gene Variation Dict, which contains the probability array for each gene/variation\n",
    "    gv_dict = dict()\n",
    "    \n",
    "    # denominator will contain the number of time that particular feature occured in whole data\n",
    "    for i, denominator in value_count.items():\n",
    "        # vec will contain (p(yi==1/Gi) probability of gene/variation belongs to perticular class\n",
    "        # vec is 9 diamensional vector\n",
    "        vec = []\n",
    "        for k in range(1,10):\n",
    "            # print(train_df.loc[(train_df['Class']==1) & (train_df['Gene']=='BRCA1')])\n",
    "            #         ID   Gene             Variation  Class  \n",
    "            # 2470  2470  BRCA1                S1715C      1   \n",
    "            # 2486  2486  BRCA1                S1841R      1   \n",
    "            # 2614  2614  BRCA1                   M1R      1   \n",
    "            # 2432  2432  BRCA1                L1657P      1   \n",
    "            # 2567  2567  BRCA1                T1685A      1   \n",
    "            # 2583  2583  BRCA1                E1660G      1   \n",
    "            # 2634  2634  BRCA1                W1718L      1   \n",
    "            # cls_cnt.shape[0] will return the number of rows\n",
    "\n",
    "            cls_cnt = train_df.loc[(train_df['Class']==k) & (train_df[feature]==i)]\n",
    "            \n",
    "            # cls_cnt.shape[0](numerator) will contain the number of time that particular feature occured in whole data\n",
    "            vec.append((cls_cnt.shape[0] + alpha*10)/ (denominator + 90*alpha))\n",
    "\n",
    "        # we are adding the gene/variation to the dict as key and vec as value\n",
    "        gv_dict[i]=vec\n",
    "    return gv_dict\n",
    "\n",
    "# Get Gene variation feature\n",
    "def get_gv_feature(alpha, feature, df):\n",
    "    # print(gv_dict)\n",
    "    #     {'BRCA1': [0.20075757575757575, 0.03787878787878788, 0.068181818181818177, 0.13636363636363635, 0.25, 0.19318181818181818, 0.03787878787878788, 0.03787878787878788, 0.03787878787878788], \n",
    "    #      'TP53': [0.32142857142857145, 0.061224489795918366, 0.061224489795918366, 0.27040816326530615, 0.061224489795918366, 0.066326530612244902, 0.051020408163265307, 0.051020408163265307, 0.056122448979591837], \n",
    "    #      'EGFR': [0.056818181818181816, 0.21590909090909091, 0.0625, 0.068181818181818177, 0.068181818181818177, 0.0625, 0.34659090909090912, 0.0625, 0.056818181818181816], \n",
    "    #      'BRCA2': [0.13333333333333333, 0.060606060606060608, 0.060606060606060608, 0.078787878787878782, 0.1393939393939394, 0.34545454545454546, 0.060606060606060608, 0.060606060606060608, 0.060606060606060608], \n",
    "    #      'PTEN': [0.069182389937106917, 0.062893081761006289, 0.069182389937106917, 0.46540880503144655, 0.075471698113207544, 0.062893081761006289, 0.069182389937106917, 0.062893081761006289, 0.062893081761006289], \n",
    "    #      'KIT': [0.066225165562913912, 0.25165562913907286, 0.072847682119205295, 0.072847682119205295, 0.066225165562913912, 0.066225165562913912, 0.27152317880794702, 0.066225165562913912, 0.066225165562913912], \n",
    "    #      'BRAF': [0.066666666666666666, 0.17999999999999999, 0.073333333333333334, 0.073333333333333334, 0.093333333333333338, 0.080000000000000002, 0.29999999999999999, 0.066666666666666666, 0.066666666666666666],\n",
    "    #      ...\n",
    "    #     }\n",
    "    gv_dict = get_gv_fea_dict(alpha, feature, df)\n",
    "    # value_count is similar in get_gv_fea_dict\n",
    "    value_count = train_df[feature].value_counts()\n",
    "    \n",
    "    # gv_fea: Gene_variation feature, it will contain the feature for each feature value in the data\n",
    "    gv_fea = []\n",
    "    # for every feature values in the given data frame we will check if it is there in the train data then we will add the feature to gv_fea\n",
    "    # if not we will add [1/9,1/9,1/9,1/9,1/9,1/9,1/9,1/9,1/9] to gv_fea\n",
    "    for index, row in df.iterrows():\n",
    "        if row[feature] in dict(value_count).keys():\n",
    "            gv_fea.append(gv_dict[row[feature]])\n",
    "        else:\n",
    "            gv_fea.append([1/9,1/9,1/9,1/9,1/9,1/9,1/9,1/9,1/9])\n",
    "#             gv_fea.append([-1,-1,-1,-1,-1,-1,-1,-1,-1])\n",
    "    return gv_fea"
   ]
  },
  {
   "cell_type": "markdown",
   "metadata": {},
   "source": [
    "when we caculate the probability of a feature belongs to any particular class, we apply laplace smoothing\n",
    "\n",
    "(numerator + 10*alpha) / (denominator + 90*alpha)"
   ]
  },
  {
   "cell_type": "markdown",
   "metadata": {},
   "source": [
    "# 3.2.1 Univariate Analysis on Gene Feature"
   ]
  },
  {
   "cell_type": "markdown",
   "metadata": {},
   "source": [
    "Q1. Gene, What type of feature it is ?\n",
    "\n",
    "Ans. Gene is a categorical variable\n",
    "\n",
    "Q2. How many categories are there and How they are distributed?"
   ]
  },
  {
   "cell_type": "code",
   "execution_count": 16,
   "metadata": {},
   "outputs": [
    {
     "name": "stdout",
     "output_type": "stream",
     "text": [
      "Number of Unique Genes : 237\n",
      "BRCA1     157\n",
      "TP53      111\n",
      "EGFR       84\n",
      "BRCA2      79\n",
      "PTEN       73\n",
      "BRAF       61\n",
      "KIT        58\n",
      "ALK        49\n",
      "ERBB2      43\n",
      "PDGFRA     40\n",
      "Name: Gene, dtype: int64\n"
     ]
    }
   ],
   "source": [
    "unique_genes = train_df['Gene'].value_counts()\n",
    "print('Number of Unique Genes :', unique_genes.shape[0])\n",
    "# the top 10 genes that occured most\n",
    "print(unique_genes.head(10))"
   ]
  },
  {
   "cell_type": "code",
   "execution_count": 17,
   "metadata": {},
   "outputs": [
    {
     "name": "stdout",
     "output_type": "stream",
     "text": [
      "Ans: There are 237 different categories of genes in the train data, and they are distibuted as follows\n"
     ]
    }
   ],
   "source": [
    "print(\"Ans: There are\", unique_genes.shape[0] ,\"different categories of genes in the train data, and they are distibuted as follows\",)"
   ]
  },
  {
   "cell_type": "code",
   "execution_count": 18,
   "metadata": {},
   "outputs": [
    {
     "data": {
      "image/png": "[encoded data removed]",
      "text/plain": [
       "<Figure size 432x288 with 1 Axes>"
      ]
     },
     "metadata": {},
     "output_type": "display_data"
    }
   ],
   "source": [
    "s = sum(unique_genes.values);\n",
    "h = unique_genes.values/s;\n",
    "plt.plot(h, label=\"Histrogram of Genes\")\n",
    "plt.xlabel('Index of a Gene')\n",
    "plt.ylabel('Number of Occurances')\n",
    "plt.legend()\n",
    "plt.grid()\n",
    "plt.show()\n"
   ]
  },
  {
   "cell_type": "markdown",
   "metadata": {},
   "source": [
    "Q3. How to featurize this Gene feature ?\n",
    "\n",
    "Ans.there are two ways we can featurize this variable check out this video: https://www.appliedaicourse.com/course/applied-ai-course-online/lessons/handling-categorical-and-numerical-features/\n",
    "\n",
    "One hot Encoding\n",
    "Response coding\n",
    "We will choose the appropriate featurization based on the ML model we use. For this problem of multi-class classification with categorical features, one-hot encoding is better for Logistic regression while response coding is better for Random Forests."
   ]
  },
  {
   "cell_type": "code",
   "execution_count": 20,
   "metadata": {},
   "outputs": [],
   "source": [
    "#response-coding of the Gene feature\n",
    "# alpha is used for laplace smoothing\n",
    "alpha = 1\n",
    "# train gene feature\n",
    "train_gene_feature_responseCoding = np.array(get_gv_feature(alpha, \"Gene\", train_df))\n",
    "# test gene feature\n",
    "test_gene_feature_responseCoding = np.array(get_gv_feature(alpha, \"Gene\", test_df))\n",
    "# cross validation gene feature\n",
    "cv_gene_feature_responseCoding = np.array(get_gv_feature(alpha, \"Gene\", cv_df))"
   ]
  },
  {
   "cell_type": "code",
   "execution_count": 21,
   "metadata": {},
   "outputs": [
    {
     "name": "stdout",
     "output_type": "stream",
     "text": [
      "train_gene_feature_responseCoding is converted feature using respone coding method. The shape of gene feature: (2124, 9)\n"
     ]
    }
   ],
   "source": [
    "print(\"train_gene_feature_responseCoding is converted feature using respone coding method. The shape of gene feature:\", train_gene_feature_responseCoding.shape)"
   ]
  },
  {
   "cell_type": "code",
   "execution_count": 32,
   "metadata": {},
   "outputs": [],
   "source": [
    "# TF-IDF encoding of Gene feature.\n",
    "gene_vectorizer = TfidfVectorizer()\n",
    "train_gene_feature_tfidfcoding = gene_vectorizer.fit_transform(train_df['Gene'])\n",
    "test_gene_feature_tfidfcoding = gene_vectorizer.transform(test_df['Gene'])\n",
    "cv_gene_feature_tfidfcoding = gene_vectorizer.transform(cv_df['Gene'])"
   ]
  },
  {
   "cell_type": "code",
   "execution_count": 33,
   "metadata": {},
   "outputs": [
    {
     "data": {
      "text/plain": [
       "1187    PIK3CA\n",
       "2488     BRCA1\n",
       "1326      MLH1\n",
       "404       TP53\n",
       "102       MSH6\n",
       "Name: Gene, dtype: object"
      ]
     },
     "execution_count": 33,
     "metadata": {},
     "output_type": "execute_result"
    }
   ],
   "source": [
    "train_df['Gene'].head()"
   ]
  },
  {
   "cell_type": "code",
   "execution_count": 34,
   "metadata": {},
   "outputs": [
    {
     "data": {
      "text/plain": [
       "['abl1',\n",
       " 'acvr1',\n",
       " 'ago2',\n",
       " 'akt1',\n",
       " 'akt2',\n",
       " 'akt3',\n",
       " 'alk',\n",
       " 'apc',\n",
       " 'ar',\n",
       " 'araf',\n",
       " 'arid1a',\n",
       " 'arid1b',\n",
       " 'arid2',\n",
       " 'atm',\n",
       " 'atr',\n",
       " 'aurka',\n",
       " 'aurkb',\n",
       " 'axin1',\n",
       " 'b2m',\n",
       " 'bap1',\n",
       " 'bard1',\n",
       " 'bcl10',\n",
       " 'bcl2',\n",
       " 'bcl2l11',\n",
       " 'bcor',\n",
       " 'braf',\n",
       " 'brca1',\n",
       " 'brca2',\n",
       " 'brd4',\n",
       " 'brip1',\n",
       " 'btk',\n",
       " 'card11',\n",
       " 'carm1',\n",
       " 'casp8',\n",
       " 'cbl',\n",
       " 'ccnd1',\n",
       " 'ccnd3',\n",
       " 'ccne1',\n",
       " 'cdh1',\n",
       " 'cdk12',\n",
       " 'cdk4',\n",
       " 'cdk6',\n",
       " 'cdk8',\n",
       " 'cdkn1a',\n",
       " 'cdkn1b',\n",
       " 'cdkn2a',\n",
       " 'cdkn2b',\n",
       " 'cdkn2c',\n",
       " 'cebpa',\n",
       " 'chek2',\n",
       " 'cic',\n",
       " 'crebbp',\n",
       " 'ctcf',\n",
       " 'ctnnb1',\n",
       " 'ddr2',\n",
       " 'dicer1',\n",
       " 'dnmt3a',\n",
       " 'dnmt3b',\n",
       " 'dusp4',\n",
       " 'egfr',\n",
       " 'eif1ax',\n",
       " 'elf3',\n",
       " 'ep300',\n",
       " 'epas1',\n",
       " 'erbb2',\n",
       " 'erbb3',\n",
       " 'erbb4',\n",
       " 'ercc2',\n",
       " 'ercc4',\n",
       " 'erg',\n",
       " 'errfi1',\n",
       " 'esr1',\n",
       " 'etv1',\n",
       " 'etv6',\n",
       " 'ewsr1',\n",
       " 'ezh2',\n",
       " 'fam58a',\n",
       " 'fanca',\n",
       " 'fancc',\n",
       " 'fat1',\n",
       " 'fbxw7',\n",
       " 'fgf19',\n",
       " 'fgf3',\n",
       " 'fgf4',\n",
       " 'fgfr1',\n",
       " 'fgfr2',\n",
       " 'fgfr3',\n",
       " 'fgfr4',\n",
       " 'flt3',\n",
       " 'foxa1',\n",
       " 'foxl2',\n",
       " 'foxo1',\n",
       " 'foxp1',\n",
       " 'fubp1',\n",
       " 'gata3',\n",
       " 'gli1',\n",
       " 'gnas',\n",
       " 'h3f3a',\n",
       " 'hist1h1c',\n",
       " 'hla',\n",
       " 'hnf1a',\n",
       " 'hras',\n",
       " 'idh1',\n",
       " 'idh2',\n",
       " 'igf1r',\n",
       " 'ikbke',\n",
       " 'il7r',\n",
       " 'inpp4b',\n",
       " 'jak1',\n",
       " 'jak2',\n",
       " 'kdm5a',\n",
       " 'kdm5c',\n",
       " 'kdm6a',\n",
       " 'kdr',\n",
       " 'keap1',\n",
       " 'kit',\n",
       " 'klf4',\n",
       " 'kmt2a',\n",
       " 'kmt2b',\n",
       " 'kmt2c',\n",
       " 'kmt2d',\n",
       " 'knstrn',\n",
       " 'kras',\n",
       " 'lats1',\n",
       " 'lats2',\n",
       " 'map2k1',\n",
       " 'map2k2',\n",
       " 'map2k4',\n",
       " 'map3k1',\n",
       " 'mapk1',\n",
       " 'mdm4',\n",
       " 'med12',\n",
       " 'mef2b',\n",
       " 'men1',\n",
       " 'met',\n",
       " 'mga',\n",
       " 'mlh1',\n",
       " 'mpl',\n",
       " 'msh2',\n",
       " 'msh6',\n",
       " 'mtor',\n",
       " 'myc',\n",
       " 'mycn',\n",
       " 'myd88',\n",
       " 'ncor1',\n",
       " 'nf1',\n",
       " 'nf2',\n",
       " 'nfe2l2',\n",
       " 'nfkbia',\n",
       " 'nkx2',\n",
       " 'notch1',\n",
       " 'notch2',\n",
       " 'npm1',\n",
       " 'nras',\n",
       " 'ntrk1',\n",
       " 'ntrk2',\n",
       " 'ntrk3',\n",
       " 'pbrm1',\n",
       " 'pdgfra',\n",
       " 'pdgfrb',\n",
       " 'pik3ca',\n",
       " 'pik3cb',\n",
       " 'pik3cd',\n",
       " 'pik3r1',\n",
       " 'pik3r2',\n",
       " 'pik3r3',\n",
       " 'pim1',\n",
       " 'pms1',\n",
       " 'pms2',\n",
       " 'pole',\n",
       " 'ppm1d',\n",
       " 'ppp2r1a',\n",
       " 'ppp6c',\n",
       " 'prdm1',\n",
       " 'ptch1',\n",
       " 'pten',\n",
       " 'ptpn11',\n",
       " 'ptprd',\n",
       " 'ptprt',\n",
       " 'rab35',\n",
       " 'rac1',\n",
       " 'rad21',\n",
       " 'rad50',\n",
       " 'rad51c',\n",
       " 'rad51d',\n",
       " 'rad54l',\n",
       " 'raf1',\n",
       " 'rasa1',\n",
       " 'rb1',\n",
       " 'rbm10',\n",
       " 'ret',\n",
       " 'rheb',\n",
       " 'rhoa',\n",
       " 'rictor',\n",
       " 'rit1',\n",
       " 'rnf43',\n",
       " 'ros1',\n",
       " 'rras2',\n",
       " 'runx1',\n",
       " 'rxra',\n",
       " 'setd2',\n",
       " 'sf3b1',\n",
       " 'shq1',\n",
       " 'smad2',\n",
       " 'smad3',\n",
       " 'smad4',\n",
       " 'smarca4',\n",
       " 'smarcb1',\n",
       " 'smo',\n",
       " 'sos1',\n",
       " 'sox9',\n",
       " 'spop',\n",
       " 'src',\n",
       " 'srsf2',\n",
       " 'stat3',\n",
       " 'stk11',\n",
       " 'tcf3',\n",
       " 'tcf7l2',\n",
       " 'tert',\n",
       " 'tet1',\n",
       " 'tet2',\n",
       " 'tgfbr1',\n",
       " 'tgfbr2',\n",
       " 'tmprss2',\n",
       " 'tp53',\n",
       " 'tp53bp1',\n",
       " 'tsc1',\n",
       " 'tsc2',\n",
       " 'u2af1',\n",
       " 'vegfa',\n",
       " 'vhl',\n",
       " 'whsc1',\n",
       " 'whsc1l1',\n",
       " 'xpo1',\n",
       " 'xrcc2',\n",
       " 'yap1']"
      ]
     },
     "execution_count": 34,
     "metadata": {},
     "output_type": "execute_result"
    }
   ],
   "source": [
    "gene_vectorizer.get_feature_names()"
   ]
  },
  {
   "cell_type": "code",
   "execution_count": 35,
   "metadata": {},
   "outputs": [
    {
     "name": "stdout",
     "output_type": "stream",
     "text": [
      "train_gene_feature_tfidfcoding is converted feature using tfidf-coding method. The shape of gene feature: (2124, 236)\n"
     ]
    }
   ],
   "source": [
    "print(\"train_gene_feature_tfidfcoding is converted feature using tfidf-coding method. The shape of gene feature:\", train_gene_feature_tfidfcoding.shape)"
   ]
  },
  {
   "cell_type": "markdown",
   "metadata": {},
   "source": [
    "Q4. How good is this gene feature in predicting y_i?\n",
    "\n",
    "There are many ways to estimate how good a feature is, in predicting y_i. One of the good methods is to build a proper ML model using just this feature. In this case, we will build a logistic regression model using only Gene feature (one hot encoded) to predict y_i."
   ]
  },
  {
   "cell_type": "code",
   "execution_count": 36,
   "metadata": {},
   "outputs": [
    {
     "name": "stdout",
     "output_type": "stream",
     "text": [
      "For values of alpha =  1e-05 The log loss is: 1.3827940815435866\n",
      "For values of alpha =  0.0001 The log loss is: 1.2045841169436815\n",
      "For values of alpha =  0.001 The log loss is: 1.20579205292768\n",
      "For values of alpha =  0.01 The log loss is: 1.3180120098392534\n",
      "For values of alpha =  0.1 The log loss is: 1.423790019653204\n",
      "For values of alpha =  1 The log loss is: 1.4687740443632886\n"
     ]
    },
    {
     "data": {
      "image/png": "[encoded data removed]",
      "text/plain": [
       "<Figure size 432x288 with 1 Axes>"
      ]
     },
     "metadata": {},
     "output_type": "display_data"
    },
    {
     "name": "stdout",
     "output_type": "stream",
     "text": [
      "For values of best alpha =  0.0001 The train log loss is: 1.0493777784454428\n",
      "For values of best alpha =  0.0001 The cross validation log loss is: 1.2045841169436815\n",
      "For values of best alpha =  0.0001 The test log loss is: 1.2044631218454251\n"
     ]
    }
   ],
   "source": [
    "alpha = [10 ** x for x in range(-5, 1)] # hyperparam for SGD classifier.\n",
    "\n",
    "# read more about SGDClassifier() at http://scikit-learn.org/stable/modules/generated/sklearn.linear_model.SGDClassifier.html\n",
    "# ------------------------------\n",
    "# default parameters\n",
    "# SGDClassifier(loss=’hinge’, penalty=’l2’, alpha=0.0001, l1_ratio=0.15, fit_intercept=True, max_iter=None, tol=None, \n",
    "# shuffle=True, verbose=0, epsilon=0.1, n_jobs=1, random_state=None, learning_rate=’optimal’, eta0=0.0, power_t=0.5, \n",
    "# class_weight=None, warm_start=False, average=False, n_iter=None)\n",
    "\n",
    "# some of methods\n",
    "# fit(X, y[, coef_init, intercept_init, …])\tFit linear model with Stochastic Gradient Descent.\n",
    "# predict(X)\tPredict class labels for samples in X.\n",
    "\n",
    "#-------------------------------\n",
    "# video link: \n",
    "#------------------------------\n",
    "cv_log_error_array=[]\n",
    "for i in alpha:\n",
    "    clf = SGDClassifier(alpha=i, penalty='l2', loss='log', random_state=42)\n",
    "    clf.fit(train_gene_feature_tfidfcoding, y_train)\n",
    "    sig_clf = CalibratedClassifierCV(clf, method=\"sigmoid\")\n",
    "    sig_clf.fit(train_gene_feature_tfidfcoding, y_train)\n",
    "    predict_y = sig_clf.predict_proba(cv_gene_feature_tfidfcoding)\n",
    "    cv_log_error_array.append(log_loss(y_cv, predict_y, labels=clf.classes_, eps=1e-15))\n",
    "    print('For values of alpha = ', i, \"The log loss is:\",log_loss(y_cv, predict_y, labels=clf.classes_, eps=1e-15))\n",
    "\n",
    "fig, ax = plt.subplots()\n",
    "ax.plot(alpha, cv_log_error_array,c='g')\n",
    "for i, txt in enumerate(np.round(cv_log_error_array,3)):\n",
    "    ax.annotate((alpha[i],np.round(txt,3)), (alpha[i],cv_log_error_array[i]))\n",
    "plt.grid()\n",
    "plt.title(\"Cross Validation Error for each alpha\")\n",
    "plt.xlabel(\"Alpha i's\")\n",
    "plt.ylabel(\"Error measure\")\n",
    "plt.show()\n",
    "best_alpha = np.argmin(cv_log_error_array)\n",
    "clf = SGDClassifier(alpha=alpha[best_alpha], penalty='l2', loss='log', random_state=42)\n",
    "clf.fit(train_gene_feature_tfidfcoding, y_train)\n",
    "sig_clf = CalibratedClassifierCV(clf, method=\"sigmoid\")\n",
    "sig_clf.fit(train_gene_feature_tfidfcoding, y_train)\n",
    "\n",
    "predict_y = sig_clf.predict_proba(train_gene_feature_tfidfcoding)\n",
    "print('For values of best alpha = ', alpha[best_alpha], \"The train log loss is:\",log_loss(y_train, predict_y, labels=clf.classes_, eps=1e-15))\n",
    "predict_y = sig_clf.predict_proba(cv_gene_feature_tfidfcoding)\n",
    "print('For values of best alpha = ', alpha[best_alpha], \"The cross validation log loss is:\",log_loss(y_cv, predict_y, labels=clf.classes_, eps=1e-15))\n",
    "predict_y = sig_clf.predict_proba(test_gene_feature_tfidfcoding)\n",
    "print('For values of best alpha = ', alpha[best_alpha], \"The test log loss is:\",log_loss(y_test, predict_y, labels=clf.classes_, eps=1e-15))"
   ]
  },
  {
   "cell_type": "markdown",
   "metadata": {},
   "source": [
    "Q5. Is the Gene feature stable across all the data sets (Test, Train, Cross validation)?\n",
    "\n",
    "Ans. Yes, it is. Otherwise, the CV and Test errors would be significantly more than train error."
   ]
  },
  {
   "cell_type": "code",
   "execution_count": 37,
   "metadata": {},
   "outputs": [
    {
     "name": "stdout",
     "output_type": "stream",
     "text": [
      "Q6. How many data points in Test and CV datasets are covered by the  237  genes in train dataset?\n",
      "Ans\n",
      "1. In test data 644 out of 665 : 96.84210526315789\n",
      "2. In cross validation data 521 out of  532 : 97.93233082706767\n"
     ]
    }
   ],
   "source": [
    "print(\"Q6. How many data points in Test and CV datasets are covered by the \", unique_genes.shape[0], \" genes in train dataset?\")\n",
    "\n",
    "test_coverage=test_df[test_df['Gene'].isin(list(set(train_df['Gene'])))].shape[0]\n",
    "cv_coverage=cv_df[cv_df['Gene'].isin(list(set(train_df['Gene'])))].shape[0]\n",
    "\n",
    "print('Ans\\n1. In test data',test_coverage, 'out of',test_df.shape[0], \":\",(test_coverage/test_df.shape[0])*100)\n",
    "print('2. In cross validation data',cv_coverage, 'out of ',cv_df.shape[0],\":\" ,(cv_coverage/cv_df.shape[0])*100)"
   ]
  },
  {
   "cell_type": "markdown",
   "metadata": {},
   "source": [
    "# 3.2.2 Univariate Analysis on Variation Feature"
   ]
  },
  {
   "cell_type": "markdown",
   "metadata": {},
   "source": [
    "Q7. Variation, What type of feature is it ?\n",
    "\n",
    "Ans. Variation is a categorical variable\n",
    "\n",
    "Q8. How many categories are there?\n",
    "\n"
   ]
  },
  {
   "cell_type": "code",
   "execution_count": 38,
   "metadata": {},
   "outputs": [
    {
     "name": "stdout",
     "output_type": "stream",
     "text": [
      "Number of Unique Variations : 1933\n",
      "Truncating_Mutations    57\n",
      "Deletion                56\n",
      "Amplification           43\n",
      "Fusions                 14\n",
      "G12V                     3\n",
      "Q61H                     3\n",
      "Overexpression           3\n",
      "G13V                     2\n",
      "S222D                    2\n",
      "Q61L                     2\n",
      "Name: Variation, dtype: int64\n"
     ]
    }
   ],
   "source": [
    "unique_variations = train_df['Variation'].value_counts()\n",
    "print('Number of Unique Variations :', unique_variations.shape[0])\n",
    "# the top 10 variations that occured most\n",
    "print(unique_variations.head(10))"
   ]
  },
  {
   "cell_type": "markdown",
   "metadata": {},
   "source": [
    "print(\"Ans: There are\", unique_variations.shape[0] ,\"different categories of variations in the train data, and they are distibuted as follows\",)"
   ]
  },
  {
   "cell_type": "code",
   "execution_count": 39,
   "metadata": {},
   "outputs": [
    {
     "data": {
      "image/png": "[encoded data removed]",
      "text/plain": [
       "<Figure size 432x288 with 1 Axes>"
      ]
     },
     "metadata": {},
     "output_type": "display_data"
    }
   ],
   "source": [
    "s = sum(unique_variations.values);\n",
    "h = unique_variations.values/s;\n",
    "plt.plot(h, label=\"Histrogram of Variations\")\n",
    "plt.xlabel('Index of a Variation')\n",
    "plt.ylabel('Number of Occurances')\n",
    "plt.legend()\n",
    "plt.grid()\n",
    "plt.show()"
   ]
  },
  {
   "cell_type": "markdown",
   "metadata": {},
   "source": [
    "Q9. How to featurize this Variation feature ?\n",
    "\n",
    "Ans.There are two ways we can featurize this variable check out this video: https://www.appliedaicourse.com/course/applied-ai-course-online/lessons/handling-categorical-and-numerical-features/\n",
    "\n",
    "1.One hot Encoding\n",
    "2.Tfidf coding\n",
    "We will be using both these methods to featurize the Variation Feature"
   ]
  },
  {
   "cell_type": "code",
   "execution_count": 31,
   "metadata": {},
   "outputs": [],
   "source": [
    "# alpha is used for laplace smoothing\n",
    "alpha = 1\n",
    "# train gene feature\n",
    "train_variation_feature_responseCoding = np.array(get_gv_feature(alpha, \"Variation\", train_df))\n",
    "# test gene feature\n",
    "test_variation_feature_responseCoding = np.array(get_gv_feature(alpha, \"Variation\", test_df))\n",
    "# cross validation gene feature\n",
    "cv_variation_feature_responseCoding = np.array(get_gv_feature(alpha, \"Variation\", cv_df))"
   ]
  },
  {
   "cell_type": "code",
   "execution_count": 40,
   "metadata": {},
   "outputs": [
    {
     "name": "stdout",
     "output_type": "stream",
     "text": [
      "train_variation_feature_responseCoding is a converted feature using the response coding method. The shape of Variation feature: (2124, 9)\n"
     ]
    }
   ],
   "source": [
    "print(\"train_variation_feature_responseCoding is a converted feature using the response coding method. The shape of Variation feature:\", train_variation_feature_responseCoding.shape)"
   ]
  },
  {
   "cell_type": "code",
   "execution_count": 41,
   "metadata": {},
   "outputs": [],
   "source": [
    "# TFIDF encoding of variation feature.\n",
    "variation_vectorizer = TfidfVectorizer()\n",
    "train_variation_feature_tfidfcoding = variation_vectorizer.fit_transform(train_df['Variation'])\n",
    "test_variation_feature_tfidfcoding = variation_vectorizer.transform(test_df['Variation'])\n",
    "cv_variation_feature_tfidfcoding = variation_vectorizer.transform(cv_df['Variation'])"
   ]
  },
  {
   "cell_type": "code",
   "execution_count": 42,
   "metadata": {},
   "outputs": [
    {
     "name": "stdout",
     "output_type": "stream",
     "text": [
      "train_variation_feature_TFIDF coded is converted feature using the tfidfcoding encoding method. The shape of Variation feature: (2124, 1965)\n"
     ]
    }
   ],
   "source": [
    "print(\"train_variation_feature_TFIDF coded is converted feature using the tfidfcoding encoding method. The shape of Variation feature:\", train_variation_feature_tfidfcoding.shape)"
   ]
  },
  {
   "cell_type": "markdown",
   "metadata": {},
   "source": [
    "Q10. How good is this Variation feature in predicting y_i?\n",
    "\n",
    "Let's build a model just like the earlier!"
   ]
  },
  {
   "cell_type": "code",
   "execution_count": 43,
   "metadata": {},
   "outputs": [
    {
     "name": "stdout",
     "output_type": "stream",
     "text": [
      "For values of alpha =  1e-05 The log loss is: 1.705744778024589\n",
      "For values of alpha =  0.0001 The log loss is: 1.6940793338459674\n",
      "For values of alpha =  0.001 The log loss is: 1.6945750576684664\n",
      "For values of alpha =  0.01 The log loss is: 1.7082631286892376\n",
      "For values of alpha =  0.1 The log loss is: 1.7227058641925947\n",
      "For values of alpha =  1 The log loss is: 1.725433492230424\n"
     ]
    },
    {
     "data": {
      "image/png": "[encoded data removed]",
      "text/plain": [
       "<Figure size 432x288 with 1 Axes>"
      ]
     },
     "metadata": {},
     "output_type": "display_data"
    },
    {
     "name": "stdout",
     "output_type": "stream",
     "text": [
      "For values of best alpha =  0.0001 The train log loss is: 0.8030908462044387\n",
      "For values of best alpha =  0.0001 The cross validation log loss is: 1.6940793338459674\n",
      "For values of best alpha =  0.0001 The test log loss is: 1.699100043646769\n"
     ]
    }
   ],
   "source": [
    "alpha = [10 ** x for x in range(-5, 1)]\n",
    "\n",
    "# read more about SGDClassifier() at http://scikit-learn.org/stable/modules/generated/sklearn.linear_model.SGDClassifier.html\n",
    "# ------------------------------\n",
    "# default parameters\n",
    "# SGDClassifier(loss=’hinge’, penalty=’l2’, alpha=0.0001, l1_ratio=0.15, fit_intercept=True, max_iter=None, tol=None, \n",
    "# shuffle=True, verbose=0, epsilon=0.1, n_jobs=1, random_state=None, learning_rate=’optimal’, eta0=0.0, power_t=0.5, \n",
    "# class_weight=None, warm_start=False, average=False, n_iter=None)\n",
    "\n",
    "# some of methods\n",
    "# fit(X, y[, coef_init, intercept_init, …])\tFit linear model with Stochastic Gradient Descent.\n",
    "# predict(X)\tPredict class labels for samples in X.\n",
    "\n",
    "#-------------------------------\n",
    "# video link: \n",
    "#------------------------------\n",
    " \n",
    "cv_log_error_array=[]\n",
    "for i in alpha:\n",
    "    clf = SGDClassifier(alpha=i, penalty='l2', loss='log', random_state=42)\n",
    "    clf.fit(train_variation_feature_tfidfcoding, y_train)\n",
    "    \n",
    "    sig_clf = CalibratedClassifierCV(clf, method=\"sigmoid\")\n",
    "    sig_clf.fit(train_variation_feature_tfidfcoding, y_train)\n",
    "    predict_y = sig_clf.predict_proba(cv_variation_feature_tfidfcoding)\n",
    "    \n",
    "    cv_log_error_array.append(log_loss(y_cv, predict_y, labels=clf.classes_, eps=1e-15))\n",
    "    print('For values of alpha = ', i, \"The log loss is:\",log_loss(y_cv, predict_y, labels=clf.classes_, eps=1e-15))\n",
    "\n",
    "fig, ax = plt.subplots()\n",
    "ax.plot(alpha, cv_log_error_array,c='g')\n",
    "for i, txt in enumerate(np.round(cv_log_error_array,3)):\n",
    "    ax.annotate((alpha[i],np.round(txt,3)), (alpha[i],cv_log_error_array[i]))\n",
    "plt.grid()\n",
    "plt.title(\"Cross Validation Error for each alpha\")\n",
    "plt.xlabel(\"Alpha i's\")\n",
    "plt.ylabel(\"Error measure\")\n",
    "plt.show()\n",
    "\n",
    "best_alpha = np.argmin(cv_log_error_array)\n",
    "clf = SGDClassifier(alpha=alpha[best_alpha], penalty='l2', loss='log', random_state=42)\n",
    "clf.fit(train_variation_feature_tfidfcoding, y_train)\n",
    "sig_clf = CalibratedClassifierCV(clf, method=\"sigmoid\")\n",
    "sig_clf.fit(train_variation_feature_tfidfcoding, y_train)\n",
    "\n",
    "predict_y = sig_clf.predict_proba(train_variation_feature_tfidfcoding)\n",
    "print('For values of best alpha = ', alpha[best_alpha], \"The train log loss is:\",log_loss(y_train, predict_y, labels=clf.classes_, eps=1e-15))\n",
    "predict_y = sig_clf.predict_proba(cv_variation_feature_tfidfcoding)\n",
    "print('For values of best alpha = ', alpha[best_alpha], \"The cross validation log loss is:\",log_loss(y_cv, predict_y, labels=clf.classes_, eps=1e-15))\n",
    "predict_y = sig_clf.predict_proba(test_variation_feature_tfidfcoding)\n",
    "print('For values of best alpha = ', alpha[best_alpha], \"The test log loss is:\",log_loss(y_test, predict_y, labels=clf.classes_, eps=1e-15))"
   ]
  },
  {
   "cell_type": "markdown",
   "metadata": {},
   "source": [
    "Q11. Is the Variation feature stable across all the data sets (Test, Train, Cross validation)?\n",
    "\n",
    "Ans. Not sure! But lets be very sure using the below analysis."
   ]
  },
  {
   "cell_type": "code",
   "execution_count": 44,
   "metadata": {},
   "outputs": [
    {
     "name": "stdout",
     "output_type": "stream",
     "text": [
      "Q12. How many data points are covered by total  1933  genes in test and cross validation data sets?\n",
      "Ans\n",
      "1. In test data 68 out of 665 : 10.225563909774436\n",
      "2. In cross validation data 57 out of  532 : 10.714285714285714\n"
     ]
    }
   ],
   "source": [
    "print(\"Q12. How many data points are covered by total \", unique_variations.shape[0], \" genes in test and cross validation data sets?\")\n",
    "test_coverage=test_df[test_df['Variation'].isin(list(set(train_df['Variation'])))].shape[0]\n",
    "cv_coverage=cv_df[cv_df['Variation'].isin(list(set(train_df['Variation'])))].shape[0]\n",
    "print('Ans\\n1. In test data',test_coverage, 'out of',test_df.shape[0], \":\",(test_coverage/test_df.shape[0])*100)\n",
    "print('2. In cross validation data',cv_coverage, 'out of ',cv_df.shape[0],\":\" ,(cv_coverage/cv_df.shape[0])*100)"
   ]
  },
  {
   "cell_type": "markdown",
   "metadata": {},
   "source": [
    "# 3.2.3 Univariate Analysis on Text Feature"
   ]
  },
  {
   "cell_type": "markdown",
   "metadata": {},
   "source": [
    "\n",
    "1.How many unique words are present in train data?\n",
    "2.How are word frequencies distributed?\n",
    "3.How to featurize text field?\n",
    "4.Is the text feature useful in predicitng y_i?\n",
    "5.Is the text feature stable across train, test and CV datasets?"
   ]
  },
  {
   "cell_type": "code",
   "execution_count": 45,
   "metadata": {},
   "outputs": [],
   "source": [
    "# cls_text is a data frame\n",
    "# for every row in data fram consider the 'TEXT'\n",
    "# split the words by space\n",
    "# make a dict with those words\n",
    "# increment its count whenever we see that word\n",
    "\n",
    "def extract_dictionary_paddle(cls_text):\n",
    "    dictionary = defaultdict(int)\n",
    "    for index, row in cls_text.iterrows():\n",
    "        for word in row['TEXT'].split():\n",
    "            dictionary[word] +=1\n",
    "    return dictionary"
   ]
  },
  {
   "cell_type": "code",
   "execution_count": 46,
   "metadata": {},
   "outputs": [],
   "source": [
    "import math\n",
    "#https://stackoverflow.com/a/1602964\n",
    "def get_text_responsecoding(df):\n",
    "    text_feature_responseCoding = np.zeros((df.shape[0],9))\n",
    "    for i in range(0,9):\n",
    "        row_index = 0\n",
    "        for index, row in df.iterrows():\n",
    "            sum_prob = 0\n",
    "            for word in row['TEXT'].split():\n",
    "                sum_prob += math.log(((dict_list[i].get(word,0)+10 )/(total_dict.get(word,0)+90)))\n",
    "            text_feature_responseCoding[row_index][i] = math.exp(sum_prob/len(row['TEXT'].split()))\n",
    "            row_index += 1\n",
    "    return text_feature_responseCoding"
   ]
  },
  {
   "cell_type": "code",
   "execution_count": 49,
   "metadata": {},
   "outputs": [
    {
     "name": "stdout",
     "output_type": "stream",
     "text": [
      "Total number of unique words in train data : 1000\n"
     ]
    }
   ],
   "source": [
    "text_vectorizer = TfidfVectorizer(ngram_range=(1,1), max_features=1000)\n",
    "train_text_feature_tfidfcoding = text_vectorizer.fit_transform(train_df['TEXT'])\n",
    "# getting all the feature names (words)\n",
    "train_text_features= text_vectorizer.get_feature_names()\n",
    "\n",
    "# train_text_feature_tfidfcoding.sum(axis=0).A1 will sum every row and returns (1*number of features) vector\n",
    "train_text_fea_counts = train_text_feature_tfidfcoding.sum(axis=0).A1\n",
    "\n",
    "# zip(list(text_features),text_fea_counts) will zip a word with its number of times it occured\n",
    "text_fea_dict = dict(zip(list(train_text_features),train_text_fea_counts))\n",
    "\n",
    "\n",
    "print(\"Total number of unique words in train data :\", len(train_text_features))"
   ]
  },
  {
   "cell_type": "code",
   "execution_count": 50,
   "metadata": {},
   "outputs": [],
   "source": [
    "dict_list = []\n",
    "# dict_list =[] contains 9 dictoinaries each corresponds to a class\n",
    "for i in range(1,10):\n",
    "    cls_text = train_df[train_df['Class']==i]\n",
    "    # build a word dict based on the words in that class\n",
    "    dict_list.append(extract_dictionary_paddle(cls_text))\n",
    "    # append it to dict_list\n",
    "\n",
    "# dict_list[i] is build on i'th  class text data\n",
    "# total_dict is buid on whole training text data\n",
    "total_dict = extract_dictionary_paddle(train_df)\n",
    "\n",
    "\n",
    "confuse_array = []\n",
    "for i in train_text_features:\n",
    "    ratios = []\n",
    "    max_val = -1\n",
    "    for j in range(0,9):\n",
    "        ratios.append((dict_list[j][i]+10 )/(total_dict[i]+90))\n",
    "    confuse_array.append(ratios)\n",
    "confuse_array = np.array(confuse_array)"
   ]
  },
  {
   "cell_type": "code",
   "execution_count": 51,
   "metadata": {},
   "outputs": [],
   "source": [
    "#response coding of text features\n",
    "train_text_feature_responseCoding  = get_text_responsecoding(train_df)\n",
    "test_text_feature_responseCoding  = get_text_responsecoding(test_df)\n",
    "cv_text_feature_responseCoding  = get_text_responsecoding(cv_df)"
   ]
  },
  {
   "cell_type": "code",
   "execution_count": 52,
   "metadata": {},
   "outputs": [],
   "source": [
    "# https://stackoverflow.com/a/16202486\n",
    "# we convert each row values such that they sum to 1  \n",
    "train_text_feature_responseCoding = (train_text_feature_responseCoding.T/train_text_feature_responseCoding.sum(axis=1)).T\n",
    "test_text_feature_responseCoding = (test_text_feature_responseCoding.T/test_text_feature_responseCoding.sum(axis=1)).T\n",
    "cv_text_feature_responseCoding = (cv_text_feature_responseCoding.T/cv_text_feature_responseCoding.sum(axis=1)).T"
   ]
  },
  {
   "cell_type": "code",
   "execution_count": 53,
   "metadata": {},
   "outputs": [],
   "source": [
    "# don't forget to normalize every feature\n",
    "train_text_feature_tfidfcoding = normalize(train_text_feature_tfidfcoding, axis=0)\n",
    "\n",
    "# we use the same vectorizer that was trained on train data\n",
    "test_text_feature_tfidfcoding = text_vectorizer.transform(test_df['TEXT'])\n",
    "# don't forget to normalize every feature\n",
    "test_text_feature_tfidfcoding = normalize(test_text_feature_tfidfcoding, axis=0)\n",
    "\n",
    "# we use the same vectorizer that was trained on train data\n",
    "cv_text_feature_tfidfcoding = text_vectorizer.transform(cv_df['TEXT'])\n",
    "# don't forget to normalize every feature\n",
    "cv_text_feature_tfidfcoding = normalize(cv_text_feature_tfidfcoding, axis=0)"
   ]
  },
  {
   "cell_type": "code",
   "execution_count": 54,
   "metadata": {},
   "outputs": [],
   "source": [
    "#https://stackoverflow.com/a/2258273/4084039\n",
    "sorted_text_fea_dict = dict(sorted(text_fea_dict.items(), key=lambda x: x[1] , reverse=True))\n",
    "sorted_text_occur = np.array(list(sorted_text_fea_dict.values()))"
   ]
  },
  {
   "cell_type": "code",
   "execution_count": 55,
   "metadata": {},
   "outputs": [
    {
     "name": "stdout",
     "output_type": "stream",
     "text": [
      "Counter({248.77269232657878: 1, 184.1013561433984: 1, 132.66004697768378: 1, 131.1389786402285: 1, 130.12016087580093: 1, 122.24329988833955: 1, 121.79437990205496: 1, 114.9188203875142: 1, 107.94786804765985: 1, 107.29033619843362: 1, 101.89523048627404: 1, 90.88671320146233: 1, 88.56153935921112: 1, 88.52215835045503: 1, 83.2140845926359: 1, 79.36401882216951: 1, 78.83079869283398: 1, 78.63726080996419: 1, 77.07778050391569: 1, 75.84307932638475: 1, 75.27574448378533: 1, 75.13624813862617: 1, 69.59138813584188: 1, 69.26062356368648: 1, 68.12762746730024: 1, 67.23234567378287: 1, 66.62219616789736: 1, 65.06581148957316: 1, 64.23230670511934: 1, 64.05795128752605: 1, 63.459924522098255: 1, 62.9124629185947: 1, 62.76640611603636: 1, 58.64975320111617: 1, 58.36710785173357: 1, 57.84578577495439: 1, 56.87943229799598: 1, 56.17646847731681: 1, 56.15146076410457: 1, 53.8735097745264: 1, 52.515941599220525: 1, 50.751581253151556: 1, 50.079119028117255: 1, 49.41038749459162: 1, 48.14021092759502: 1, 47.547381024037605: 1, 46.82979582295262: 1, 46.50597039065614: 1, 45.03804184214481: 1, 43.86881260230593: 1, 43.810422334175165: 1, 43.63529410989211: 1, 43.63236891510032: 1, 42.932824531550175: 1, 42.78370183758775: 1, 42.71948495483811: 1, 42.65456031554548: 1, 42.63535722563571: 1, 42.39134333540159: 1, 42.11616038304343: 1, 41.51571647797842: 1, 41.14211611924793: 1, 41.11937106748656: 1, 40.320005055413276: 1, 39.96027299752375: 1, 39.6260370597231: 1, 39.374220221111024: 1, 39.37008107913255: 1, 39.038138609557535: 1, 38.92349380091905: 1, 38.48437256172418: 1, 38.395259103776915: 1, 37.97927156553592: 1, 37.910769323780436: 1, 37.77021295439603: 1, 36.83631313729704: 1, 36.24362287749536: 1, 36.0476566501229: 1, 36.00941242030026: 1, 35.75454617815546: 1, 35.67201583299707: 1, 35.51645519094241: 1, 35.44531837144958: 1, 35.37676193800376: 1, 35.04386584512017: 1, 34.57799014614033: 1, 34.15075331318162: 1, 33.90994488812673: 1, 33.78579158090737: 1, 33.59069313976111: 1, 33.40093681614692: 1, 33.289006926730515: 1, 33.284708676446456: 1, 32.989156278107835: 1, 32.35132959570762: 1, 32.32083103447895: 1, 32.095330920297855: 1, 31.987517595852722: 1, 31.9390335285081: 1, 31.917150537628704: 1, 31.90021622738288: 1, 31.732526898750823: 1, 31.67333407996625: 1, 31.669332377985622: 1, 31.656572746838798: 1, 31.548578257294462: 1, 31.376621327333247: 1, 31.31002189587489: 1, 31.224219489317534: 1, 31.1760917016783: 1, 30.91383160353685: 1, 30.880380561829327: 1, 30.709492729322093: 1, 30.59754593021695: 1, 30.471515008689487: 1, 30.469228564758307: 1, 30.337081902385254: 1, 29.884211713381607: 1, 29.850789407464507: 1, 29.81095474697607: 1, 29.73845922161884: 1, 29.726222413781084: 1, 29.613358868330433: 1, 29.5625471074378: 1, 29.347503899308997: 1, 29.123442172764346: 1, 29.097658892614305: 1, 28.324792067123404: 1, 28.1037394488357: 1, 28.079566244019812: 1, 28.04066124986539: 1, 28.00256260136847: 1, 27.828671867569657: 1, 27.68888503363651: 1, 27.518424086425515: 1, 27.36213005423209: 1, 27.222617024636907: 1, 27.032871601432195: 1, 27.006334670959184: 1, 26.859518082351475: 1, 26.79547485018725: 1, 26.76765974782085: 1, 26.65008920719791: 1, 26.596745543223243: 1, 26.43183785383717: 1, 26.39904528217415: 1, 26.256200658559035: 1, 26.017255258774284: 1, 25.851897990151066: 1, 25.605394066191206: 1, 25.591802056826776: 1, 25.448687215516703: 1, 25.43700200195948: 1, 25.39746105222108: 1, 25.386113240012854: 1, 25.30465765825348: 1, 25.22578202289056: 1, 24.88268586595385: 1, 24.65630856846578: 1, 24.437392864205943: 1, 24.259562013125915: 1, 24.197864912453678: 1, 24.11693039912451: 1, 24.07127517946801: 1, 23.97491460431219: 1, 23.97131910161448: 1, 23.967663119204133: 1, 23.893455565818808: 1, 23.87494582034108: 1, 23.836112096817356: 1, 23.79843186620559: 1, 23.743459217524745: 1, 23.70287170358031: 1, 23.692621725975762: 1, 23.56190936645162: 1, 23.55822564750088: 1, 23.503199833653582: 1, 23.486002201493964: 1, 23.482682258809316: 1, 23.41296880197607: 1, 23.375239252534513: 1, 23.34362275790879: 1, 23.319499539528753: 1, 23.248678318554713: 1, 23.199700883996922: 1, 23.172690945992493: 1, 23.171527739069752: 1, 23.124099711738644: 1, 23.103409553177194: 1, 23.015989897474352: 1, 22.899667158827885: 1, 22.795487221520666: 1, 22.733677715084703: 1, 22.68455592731142: 1, 22.573532211505846: 1, 22.533223202811207: 1, 22.444774994921836: 1, 22.44103703744307: 1, 22.418012922681505: 1, 22.3218384905105: 1, 22.076502695551298: 1, 22.051518544020567: 1, 21.943747370234423: 1, 21.92568787360199: 1, 21.910055159296316: 1, 21.7902514849345: 1, 21.745673418410135: 1, 21.688949616298096: 1, 21.649297035194255: 1, 21.630136941226947: 1, 21.627743392071714: 1, 21.61189229095906: 1, 21.577280620788898: 1, 21.547772438806955: 1, 21.413199693572505: 1, 21.391942084223913: 1, 21.326026523312333: 1, 21.31194596206697: 1, 21.223796613969: 1, 21.197575705452305: 1, 21.157267136703414: 1, 21.125197491995788: 1, 21.108186278863936: 1, 21.10796484327965: 1, 21.07270449305265: 1, 21.07184407196515: 1, 21.064302794796905: 1, 21.06169490681188: 1, 20.998394277334693: 1, 20.94815198748235: 1, 20.86937581689522: 1, 20.861616685026565: 1, 20.82230403972616: 1, 20.74492186157116: 1, 20.63887037460006: 1, 20.590454819917944: 1, 20.476868766109888: 1, 20.4475755799006: 1, 20.442652137143938: 1, 20.441371159017947: 1, 20.31821542388425: 1, 20.30280707077234: 1, 20.285821253066963: 1, 20.279857547481754: 1, 20.23547010743346: 1, 20.22836839283083: 1, 20.017258823702736: 1, 20.011461739121383: 1, 20.003751328381675: 1, 19.99831403815802: 1, 19.922174475570923: 1, 19.883272254839696: 1, 19.877416725103913: 1, 19.86467965563053: 1, 19.86271585834728: 1, 19.761722064928712: 1, 19.692381651170525: 1, 19.586890867955322: 1, 19.574753359703273: 1, 19.541658485363467: 1, 19.53455762416075: 1, 19.483291484259503: 1, 19.466519668398597: 1, 19.37610206803152: 1, 19.356324641906927: 1, 19.33174660788797: 1, 19.28810297933447: 1, 19.280240798250414: 1, 19.194220317806785: 1, 19.179196290374694: 1, 19.128407827653295: 1, 19.117293145803362: 1, 19.0689541500297: 1, 19.052809161397313: 1, 19.033375983230858: 1, 19.012390204697844: 1, 18.954280984140205: 1, 18.94170876776581: 1, 18.921591172925172: 1, 18.915384122830872: 1, 18.896969415043635: 1, 18.893617727232293: 1, 18.827401084772102: 1, 18.805046156840945: 1, 18.770570665665545: 1, 18.70574615018189: 1, 18.564009732264164: 1, 18.47771895961161: 1, 18.426434679595598: 1, 18.37115195294901: 1, 18.368232188973693: 1, 18.228018000699432: 1, 18.226752243517122: 1, 18.22133628531532: 1, 18.205754353360906: 1, 18.199190224479008: 1, 18.19455096364903: 1, 18.193619677770563: 1, 18.16259050034986: 1, 18.158705178610347: 1, 18.115829892906643: 1, 18.10489640307363: 1, 18.072667399360128: 1, 18.04186154750541: 1, 18.00092127895614: 1, 17.975462895222645: 1, 17.94490193902954: 1, 17.93695001675248: 1, 17.859925938623363: 1, 17.843108756128274: 1, 17.83078708854336: 1, 17.816852767228216: 1, 17.72537822884654: 1, 17.720993868346014: 1, 17.714291319638633: 1, 17.70831272679583: 1, 17.67526041459816: 1, 17.627165699004117: 1, 17.59945425246221: 1, 17.561663705632846: 1, 17.56047646938056: 1, 17.55778839727051: 1, 17.555577604685116: 1, 17.46350871578587: 1, 17.457782978005728: 1, 17.433031741127127: 1, 17.431557547089486: 1, 17.422163989874694: 1, 17.39345911298436: 1, 17.36308519181583: 1, 17.328119424349392: 1, 17.320587295096296: 1, 17.296300944106168: 1, 17.28426573236113: 1, 17.277874669580015: 1, 17.26750787883845: 1, 17.24963958217483: 1, 17.23553952197315: 1, 17.196513916390256: 1, 17.182258283075928: 1, 17.18060138994082: 1, 17.14243125874534: 1, 17.099241619355677: 1, 17.087214653326008: 1, 16.962685259431733: 1, 16.94771647253802: 1, 16.94451825618631: 1, 16.912429786565326: 1, 16.90557255615229: 1, 16.86782035029351: 1, 16.757911235298526: 1, 16.733678967123044: 1, 16.729586302509578: 1, 16.67843098743313: 1, 16.652643121077595: 1, 16.652137027648745: 1, 16.606382238187983: 1, 16.53616984209037: 1, 16.51889218697788: 1, 16.50757755830374: 1, 16.47029093133382: 1, 16.466487437976685: 1, 16.42211209107442: 1, 16.396872600063727: 1, 16.38756911163323: 1, 16.34773204713246: 1, 16.323058999780304: 1, 16.308821192981885: 1, 16.26156946107084: 1, 16.259929761598503: 1, 16.2547784295598: 1, 16.250130727081967: 1, 16.226020190568043: 1, 16.217573651318535: 1, 16.204146781009808: 1, 16.192872506812915: 1, 16.15186747362086: 1, 16.14868552777697: 1, 16.125877751569174: 1, 16.057357583695286: 1, 16.052617613537983: 1, 15.958657122622402: 1, 15.927399202976162: 1, 15.924572772116703: 1, 15.898440371962035: 1, 15.876233877063816: 1, 15.83479711804989: 1, 15.770232952592192: 1, 15.756289625797013: 1, 15.720854724420475: 1, 15.681784611971342: 1, 15.640182811207943: 1, 15.636751406868429: 1, 15.608337550391909: 1, 15.563425856715499: 1, 15.530499297236386: 1, 15.475647249001476: 1, 15.460081598601297: 1, 15.426718465837798: 1, 15.415319571921161: 1, 15.3832528172069: 1, 15.35547156067104: 1, 15.317053604611678: 1, 15.209124620101143: 1, 15.17959100064228: 1, 15.147126966824048: 1, 15.146331869082658: 1, 15.13461563186974: 1, 15.133997358150845: 1, 15.094794260754508: 1, 15.026703800677563: 1, 15.020006340654586: 1, 14.985339115071296: 1, 14.931011284568848: 1, 14.928223342805655: 1, 14.917903484333886: 1, 14.908926960926086: 1, 14.87907342853665: 1, 14.86562528465761: 1, 14.840867733491152: 1, 14.840072407865517: 1, 14.836690236211822: 1, 14.828355153048022: 1, 14.82478828715698: 1, 14.795424878947435: 1, 14.792212099346361: 1, 14.783681809262633: 1, 14.77571157362949: 1, 14.689725285716094: 1, 14.688263225407125: 1, 14.658417825365936: 1, 14.637909124601936: 1, 14.577711524804915: 1, 14.5520363856864: 1, 14.504555654729923: 1, 14.498772108602942: 1, 14.494349214248237: 1, 14.486204398014086: 1, 14.484037671430313: 1, 14.47593684494739: 1, 14.465615913661628: 1, 14.446142685279492: 1, 14.435606223313938: 1, 14.421554289767258: 1, 14.406140059703196: 1, 14.400350532922069: 1, 14.374850860231914: 1, 14.368695548496984: 1, 14.344712012723503: 1, 14.289833588451515: 1, 14.264543132505613: 1, 14.25897133920344: 1, 14.242058957892095: 1, 14.223311754444342: 1, 14.217147271844283: 1, 14.208707520320099: 1, 14.195566423486044: 1, 14.166374417274922: 1, 14.160891681771842: 1, 14.14342643478785: 1, 14.138594569494554: 1, 14.101799346836705: 1, 14.096106968810963: 1, 14.095442701600565: 1, 14.048455458351754: 1, 13.988964054628173: 1, 13.972198370679907: 1, 13.963453046789366: 1, 13.933053345632839: 1, 13.930796393502934: 1, 13.909606742214047: 1, 13.896526598162566: 1, 13.873043160481512: 1, 13.839206473490812: 1, 13.80123977416605: 1, 13.795608694628921: 1, 13.781539245605689: 1, 13.761847392008791: 1, 13.696105398957927: 1, 13.687069141765278: 1, 13.672493263905466: 1, 13.645240115446173: 1, 13.635902609401708: 1, 13.601841999701286: 1, 13.601064073712255: 1, 13.562841302852165: 1, 13.54037014929635: 1, 13.524733255215407: 1, 13.494241443833229: 1, 13.478218134217983: 1, 13.474988368173822: 1, 13.433326322460118: 1, 13.408309674845993: 1, 13.364586489004465: 1, 13.356131280579094: 1, 13.3234346575425: 1, 13.295251415665614: 1, 13.279943990111393: 1, 13.239603790461697: 1, 13.204378829988274: 1, 13.191535464432436: 1, 13.182450798536577: 1, 13.174423552574746: 1, 13.165537316370656: 1, 13.113747286019441: 1, 13.105390172612703: 1, 13.06110425932776: 1, 13.047458501658877: 1, 13.0209937200273: 1, 12.949349659890416: 1, 12.911182137909636: 1, 12.888461223204366: 1, 12.849798658644307: 1, 12.780092175562956: 1, 12.779945296540518: 1, 12.777030437805445: 1, 12.768655810397435: 1, 12.764134455133044: 1, 12.751570275599782: 1, 12.704962158651904: 1, 12.70490176306432: 1, 12.697475733370801: 1, 12.679506861680894: 1, 12.666867043440915: 1, 12.664925491423933: 1, 12.654949649076345: 1, 12.651154328783893: 1, 12.648403967076076: 1, 12.64441428204596: 1, 12.621009511178878: 1, 12.611856256292155: 1, 12.558094402251843: 1, 12.524731223411479: 1, 12.511994898858196: 1, 12.43525390877949: 1, 12.424394341339298: 1, 12.404866808125862: 1, 12.403167130037883: 1, 12.384593497436395: 1, 12.382985016966938: 1, 12.380625362794962: 1, 12.368898646424434: 1, 12.32911526714971: 1, 12.317266893136962: 1, 12.314073620380023: 1, 12.304939863598978: 1, 12.29983773967841: 1, 12.29427297253889: 1, 12.286075912459777: 1, 12.267627969469288: 1, 12.263498258901398: 1, 12.26289503779152: 1, 12.246742297651133: 1, 12.23291330452817: 1, 12.220070823477883: 1, 12.181572384755086: 1, 12.166183662004933: 1, 12.15676756152426: 1, 12.154523381490895: 1, 12.138470872343497: 1, 12.135129439935099: 1, 12.132957692585107: 1, 12.07813287436112: 1, 12.015205664655156: 1, 12.011229913811878: 1, 11.990386916660869: 1, 11.955050082815559: 1, 11.948106427559294: 1, 11.930724009687868: 1, 11.930535224628063: 1, 11.917712156704331: 1, 11.912391915904491: 1, 11.901286703586143: 1, 11.890103392988454: 1, 11.874964013090036: 1, 11.862645662673556: 1, 11.859382838929747: 1, 11.848564941726876: 1, 11.841960806411832: 1, 11.841367827872599: 1, 11.82981923877646: 1, 11.825735757589943: 1, 11.823573787790012: 1, 11.820027658413299: 1, 11.804005902024148: 1, 11.7992668302085: 1, 11.79441408326595: 1, 11.770146577964733: 1, 11.755034875710315: 1, 11.739528937983806: 1, 11.736857937271088: 1, 11.726439821493129: 1, 11.72361114933401: 1, 11.70027296720104: 1, 11.65960224321209: 1, 11.609846336402827: 1, 11.605530448702067: 1, 11.532298976657982: 1, 11.523992821542038: 1, 11.486490541756638: 1, 11.463761785193556: 1, 11.43316834912401: 1, 11.40665934057916: 1, 11.4012580382151: 1, 11.391741651140405: 1, 11.385482044354632: 1, 11.379255360550363: 1, 11.378413159707112: 1, 11.370542918137607: 1, 11.363811847052126: 1, 11.3622936179699: 1, 11.328645736998006: 1, 11.315315606896021: 1, 11.297703581489888: 1, 11.294525352702202: 1, 11.285098742219313: 1, 11.277663404915684: 1, 11.277418754380895: 1, 11.273694091872612: 1, 11.264941532019341: 1, 11.264158073018601: 1, 11.259412490229094: 1, 11.250731153334929: 1, 11.244872806519027: 1, 11.2056610357493: 1, 11.204937405791016: 1, 11.180461080964015: 1, 11.179930505295216: 1, 11.179412808203626: 1, 11.178413986118287: 1, 11.170999263312636: 1, 11.16910834251579: 1, 11.160782748713446: 1, 11.15675646605077: 1, 11.130778341729307: 1, 11.108038325694967: 1, 11.099355304471807: 1, 11.034542953459395: 1, 11.027505240641663: 1, 11.018923774316592: 1, 11.015079534574168: 1, 11.01282267400046: 1, 10.981218165897108: 1, 10.966732193869586: 1, 10.921594585783346: 1, 10.919915776377419: 1, 10.89347703535768: 1, 10.87682765949041: 1, 10.868942576685143: 1, 10.828293392177528: 1, 10.825895971003725: 1, 10.814146553031662: 1, 10.793886796330051: 1, 10.789215492271547: 1, 10.776957518721096: 1, 10.77605730216051: 1, 10.768910580057586: 1, 10.766975418299122: 1, 10.765280770871332: 1, 10.731325995541724: 1, 10.727136482920868: 1, 10.706464144392926: 1, 10.706087120349165: 1, 10.705205091721902: 1, 10.665667826512056: 1, 10.662643487547463: 1, 10.623980521211799: 1, 10.621913106722847: 1, 10.602638873265573: 1, 10.577664669570831: 1, 10.566593964948467: 1, 10.56176576817369: 1, 10.551264873498413: 1, 10.534983305948161: 1, 10.52444240731003: 1, 10.513720060808463: 1, 10.513011406949465: 1, 10.502746937817562: 1, 10.496072129592914: 1, 10.462293003432558: 1, 10.45995139452697: 1, 10.453727208641023: 1, 10.436433820257562: 1, 10.433014089900738: 1, 10.42948615979155: 1, 10.41549494942649: 1, 10.398788879925648: 1, 10.393897431702873: 1, 10.390585121790698: 1, 10.377501815189243: 1, 10.372367579910152: 1, 10.322861128859696: 1, 10.31436543176211: 1, 10.284324072181667: 1, 10.283639086970842: 1, 10.28286431149906: 1, 10.282259797234708: 1, 10.255262017364078: 1, 10.23489828146997: 1, 10.234344709097265: 1, 10.226289871332487: 1, 10.221542307076572: 1, 10.20661533322812: 1, 10.16778234572937: 1, 10.167450456702317: 1, 10.152024298509577: 1, 10.150559414855094: 1, 10.1497634534158: 1, 10.140121092420976: 1, 10.125130401829914: 1, 10.122488857543592: 1, 10.110794760807757: 1, 10.104023807884227: 1, 10.095503088657651: 1, 10.084817925497514: 1, 10.083204180857875: 1, 10.064711266186299: 1, 10.049502440199385: 1, 10.032544528348046: 1, 9.985320237640288: 1, 9.978292863445867: 1, 9.97443268727851: 1, 9.951409534091162: 1, 9.949212648928327: 1, 9.937177020566192: 1, 9.891406491700353: 1, 9.891392486335317: 1, 9.887665954554947: 1, 9.878477178077341: 1, 9.876322039166102: 1, 9.874401360394065: 1, 9.874376942055871: 1, 9.869524776152458: 1, 9.867114022580688: 1, 9.866312740360826: 1, 9.863587890092315: 1, 9.817834199378536: 1, 9.804785234187452: 1, 9.769576513323283: 1, 9.751314023243657: 1, 9.747923538305685: 1, 9.735195140079078: 1, 9.712850190285673: 1, 9.700492699584666: 1, 9.682682197432337: 1, 9.681686892742372: 1, 9.671904813852244: 1, 9.648698668552164: 1, 9.646722821425055: 1, 9.643976114682955: 1, 9.629656764400657: 1, 9.626841515161136: 1, 9.626272772420643: 1, 9.604778219802611: 1, 9.602913497695077: 1, 9.59662399268096: 1, 9.583083305605502: 1, 9.579665591118506: 1, 9.574571918137208: 1, 9.572209520809501: 1, 9.518451366029275: 1, 9.501353671100805: 1, 9.486390845025415: 1, 9.480111070960028: 1, 9.450343792275923: 1, 9.441501068416128: 1, 9.429606037979076: 1, 9.425608339824672: 1, 9.391091526223029: 1, 9.373919521771072: 1, 9.363578834517085: 1, 9.350409475205224: 1, 9.338398866023315: 1, 9.337529228216097: 1, 9.335224562896347: 1, 9.32596228026241: 1, 9.318828522688843: 1, 9.306671120481807: 1, 9.295554416908908: 1, 9.295035081617002: 1, 9.278002976940954: 1, 9.27727530696642: 1, 9.267200380674955: 1, 9.263817850760704: 1, 9.253484774119048: 1, 9.240471500871699: 1, 9.23499051794632: 1, 9.230652625313477: 1, 9.226139724222337: 1, 9.225783841452628: 1, 9.206461424677423: 1, 9.202089194359731: 1, 9.201701539585327: 1, 9.18988361085323: 1, 9.188018770463865: 1, 9.177089645697903: 1, 9.172006635699383: 1, 9.152698564931702: 1, 9.148976419600457: 1, 9.139344829964934: 1, 9.138472150083599: 1, 9.134407621725787: 1, 9.13247504758732: 1, 9.117506364935732: 1, 9.11737950027869: 1, 9.116171354048381: 1, 9.113592221243932: 1, 9.113570975185189: 1, 9.111055754309655: 1, 9.107773060003433: 1, 9.099831619639343: 1, 9.094189132855494: 1, 9.084706473667802: 1, 9.080519352185721: 1, 9.0659179962625: 1, 9.05607045611416: 1, 9.052271510649456: 1, 9.049680791691776: 1, 9.046482784823446: 1, 9.031246183699418: 1, 9.023683737873727: 1, 8.985214963195986: 1, 8.982541549320265: 1, 8.964512007600497: 1, 8.963378581202381: 1, 8.95799878482375: 1, 8.948373248820623: 1, 8.941931047771313: 1, 8.94067792309003: 1, 8.936680836361925: 1, 8.923624954538832: 1, 8.91936402509214: 1, 8.912970392300887: 1, 8.868807178444454: 1, 8.860657383755177: 1, 8.851413179992589: 1, 8.827154129713463: 1, 8.825462506493313: 1, 8.825136141967818: 1, 8.815562149054157: 1, 8.812565071380357: 1, 8.806471405935856: 1, 8.80316002155039: 1, 8.794587387318789: 1, 8.772901698426487: 1, 8.769995309263221: 1, 8.762045185900018: 1, 8.756241179710026: 1, 8.745367006176004: 1, 8.744860590425949: 1, 8.735830513523563: 1, 8.71729791084962: 1, 8.708116545508487: 1, 8.70674833050598: 1, 8.695627220804578: 1, 8.693212684888223: 1, 8.672519723717024: 1, 8.668825516525027: 1, 8.664151300629154: 1, 8.654637474238932: 1, 8.651666990158157: 1, 8.642465371295703: 1, 8.632077158295205: 1, 8.631476600342385: 1, 8.616090349205484: 1, 8.603562969360066: 1, 8.584827574751978: 1, 8.559657913042997: 1, 8.559273159536595: 1, 8.544524542567428: 1, 8.527464515168157: 1, 8.523281524612232: 1, 8.521636978748587: 1, 8.476559589363625: 1, 8.454114047557534: 1, 8.453337070884594: 1, 8.428816976051456: 1, 8.428125771746537: 1, 8.410044527632131: 1, 8.40245422188598: 1, 8.385670638743804: 1, 8.35878758986396: 1, 8.34736241851388: 1, 8.324592111913717: 1, 8.311703327162865: 1, 8.295025059954108: 1, 8.29343162210782: 1, 8.280850190577853: 1, 8.255311852539641: 1, 8.253495898054021: 1, 8.249684884440288: 1, 8.241982285734505: 1, 8.241931223714523: 1, 8.237089908201161: 1, 8.223367986439118: 1, 8.2116587990711: 1, 8.200292728905515: 1, 8.189965486197796: 1, 8.177857948198776: 1, 8.143379803085233: 1, 8.134891813966632: 1, 8.134735758849827: 1, 8.13011933923404: 1, 8.11482536686898: 1, 8.097048935746649: 1, 8.09612613487351: 1, 8.08570362011654: 1, 8.060830200567558: 1, 8.055772642323483: 1, 8.053157581206: 1, 8.029466038758889: 1, 8.02272888799708: 1, 8.008940180219556: 1, 8.001391425333011: 1, 7.998252731790452: 1, 7.989357647162264: 1, 7.9780502873846055: 1, 7.939154448501265: 1, 7.93087689501042: 1, 7.913037966306376: 1, 7.9103119583391175: 1, 7.888224004317688: 1, 7.845345612119065: 1, 7.841375305441601: 1, 7.817625884794936: 1, 7.803846292434107: 1, 7.802291776493302: 1, 7.787462398352763: 1, 7.781761584008203: 1, 7.777970540987583: 1, 7.7766550390959415: 1, 7.774054589446322: 1, 7.773599390490989: 1, 7.762143113491199: 1, 7.7600022524154335: 1, 7.756622764104562: 1, 7.71924541268944: 1, 7.707293103050213: 1, 7.694252631147879: 1, 7.691900788647763: 1, 7.672676519586318: 1, 7.671259837644843: 1, 7.671067183894874: 1, 7.665899391524401: 1, 7.608226433979288: 1, 7.605441726650154: 1, 7.593693483010946: 1, 7.589645420598517: 1, 7.583570385853214: 1, 7.571069844038424: 1, 7.5429375285706834: 1, 7.542217198274635: 1, 7.538793175697613: 1, 7.532979663277716: 1, 7.506546785353295: 1, 7.494853762440068: 1, 7.4853420764844065: 1, 7.481901268382648: 1, 7.435052560146874: 1, 7.409801052639015: 1, 7.40538714775854: 1, 7.395858857851477: 1, 7.393592026540989: 1, 7.384154809882708: 1, 7.353784942988488: 1, 7.353612920039155: 1, 7.349410652372144: 1, 7.341735644780526: 1, 7.29160672634217: 1, 7.246142951501685: 1, 7.208055716503442: 1, 7.2047236845471625: 1, 7.193799409043387: 1, 7.182120893558742: 1, 7.171008400032173: 1, 7.13708558409034: 1, 7.135111443014902: 1, 7.1240140028928725: 1, 7.1041778143763405: 1, 7.102255376546288: 1, 7.070932531162879: 1, 7.063903246261644: 1, 7.056665776096557: 1, 7.001989609620706: 1, 6.994081754960022: 1, 6.9505407209539465: 1, 6.944020340243195: 1, 6.910399396565447: 1, 6.90032500762057: 1, 6.876948343284764: 1, 6.853766719717506: 1, 6.846830044459205: 1, 6.831925546529404: 1, 6.76615490131592: 1, 6.697272636510097: 1, 6.61378177600519: 1, 6.55271357787813: 1, 6.45568551172812: 1, 6.441297061089906: 1, 6.098103785324602: 1})\n"
     ]
    }
   ],
   "source": [
    "# Number of words for a given frequency.\n",
    "print(Counter(sorted_text_occur))"
   ]
  },
  {
   "cell_type": "code",
   "execution_count": 57,
   "metadata": {},
   "outputs": [
    {
     "name": "stdout",
     "output_type": "stream",
     "text": [
      "For values of alpha =  1e-05 The log loss is: 1.0535542571954777\n",
      "For values of alpha =  0.0001 The log loss is: 1.0382579407634964\n",
      "For values of alpha =  0.001 The log loss is: 1.3318572522723997\n",
      "For values of alpha =  0.01 The log loss is: 1.915509710874571\n",
      "For values of alpha =  0.1 The log loss is: 2.0394875914178248\n",
      "For values of alpha =  1 The log loss is: 2.026921250219763\n"
     ]
    },
    {
     "data": {
      "image/png": "[encoded data removed]",
      "text/plain": [
       "<Figure size 432x288 with 1 Axes>"
      ]
     },
     "metadata": {},
     "output_type": "display_data"
    },
    {
     "name": "stdout",
     "output_type": "stream",
     "text": [
      "For values of best alpha =  0.0001 The train log loss is: 0.8505183897726535\n",
      "For values of best alpha =  0.0001 The cross validation log loss is: 1.0382579407634964\n",
      "For values of best alpha =  0.0001 The test log loss is: 1.1125400718790734\n"
     ]
    }
   ],
   "source": [
    "# Train a Logistic regression+Calibration model using text features which are TFIDF encoded\n",
    "alpha = [10 ** x for x in range(-5, 1)]\n",
    "\n",
    "# read more about SGDClassifier() at http://scikit-learn.org/stable/modules/generated/sklearn.linear_model.SGDClassifier.html\n",
    "# ------------------------------\n",
    "# default parameters\n",
    "# SGDClassifier(loss=’hinge’, penalty=’l2’, alpha=0.0001, l1_ratio=0.15, fit_intercept=True, max_iter=None, tol=None, \n",
    "# shuffle=True, verbose=0, epsilon=0.1, n_jobs=1, random_state=None, learning_rate=’optimal’, eta0=0.0, power_t=0.5, \n",
    "# class_weight=None, warm_start=False, average=False, n_iter=None)\n",
    "\n",
    "# some of methods\n",
    "# fit(X, y[, coef_init, intercept_init, …])\tFit linear model with Stochastic Gradient Descent.\n",
    "# predict(X)\tPredict class labels for samples in X.\n",
    "\n",
    "#-------------------------------\n",
    "# video link: \n",
    "#------------------------------\n",
    "cv_log_error_array=[]\n",
    "for i in alpha:\n",
    "    clf = SGDClassifier(alpha=i, penalty='l2', loss='log', random_state=42)\n",
    "    clf.fit(train_text_feature_tfidfcoding, y_train)\n",
    "    \n",
    "    sig_clf = CalibratedClassifierCV(clf, method=\"sigmoid\")\n",
    "    sig_clf.fit(train_text_feature_tfidfcoding, y_train)\n",
    "    predict_y = sig_clf.predict_proba(cv_text_feature_tfidfcoding)\n",
    "    cv_log_error_array.append(log_loss(y_cv, predict_y, labels=clf.classes_, eps=1e-15))\n",
    "    print('For values of alpha = ', i, \"The log loss is:\",log_loss(y_cv, predict_y, labels=clf.classes_, eps=1e-15))\n",
    "\n",
    "fig, ax = plt.subplots()\n",
    "ax.plot(alpha, cv_log_error_array,c='g')\n",
    "for i, txt in enumerate(np.round(cv_log_error_array,3)):\n",
    "    ax.annotate((alpha[i],np.round(txt,3)), (alpha[i],cv_log_error_array[i]))\n",
    "plt.grid()\n",
    "plt.title(\"Cross Validation Error for each alpha\")\n",
    "plt.xlabel(\"Alpha i's\")\n",
    "plt.ylabel(\"Error measure\")\n",
    "plt.show()\n",
    "best_alpha = np.argmin(cv_log_error_array)\n",
    "clf = SGDClassifier(alpha=alpha[best_alpha], penalty='l2', loss='log', random_state=42)\n",
    "clf.fit(train_text_feature_tfidfcoding, y_train)\n",
    "sig_clf = CalibratedClassifierCV(clf, method=\"sigmoid\")\n",
    "sig_clf.fit(train_text_feature_tfidfcoding, y_train)\n",
    "\n",
    "predict_y = sig_clf.predict_proba(train_text_feature_tfidfcoding)\n",
    "print('For values of best alpha = ', alpha[best_alpha], \"The train log loss is:\",log_loss(y_train, predict_y, labels=clf.classes_, eps=1e-15))\n",
    "predict_y = sig_clf.predict_proba(cv_text_feature_tfidfcoding)\n",
    "print('For values of best alpha = ', alpha[best_alpha], \"The cross validation log loss is:\",log_loss(y_cv, predict_y, labels=clf.classes_, eps=1e-15))\n",
    "predict_y = sig_clf.predict_proba(test_text_feature_tfidfcoding)\n",
    "print('For values of best alpha = ', alpha[best_alpha], \"The test log loss is:\",log_loss(y_test, predict_y, labels=clf.classes_, eps=1e-15))"
   ]
  },
  {
   "cell_type": "markdown",
   "metadata": {},
   "source": [
    "Q. Is the Text feature stable across all the data sets (Test, Train, Cross validation)?\n",
    "\n",
    "Ans. Yes, it seems like!"
   ]
  },
  {
   "cell_type": "code",
   "execution_count": 58,
   "metadata": {},
   "outputs": [],
   "source": [
    "def get_intersec_text(df):\n",
    "    df_text_vec = TfidfVectorizer()\n",
    "    df_text_fea = df_text_vec.fit_transform(df['TEXT'])\n",
    "    df_text_features = df_text_vec.get_feature_names()\n",
    "\n",
    "    df_text_fea_counts = df_text_fea.sum(axis=0).A1\n",
    "    df_text_fea_dict = dict(zip(list(df_text_features),df_text_fea_counts))\n",
    "    len1 = len(set(df_text_features))\n",
    "    len2 = len(set(train_text_features) & set(df_text_features))\n",
    "    return len1,len2"
   ]
  },
  {
   "cell_type": "code",
   "execution_count": 59,
   "metadata": {},
   "outputs": [
    {
     "name": "stdout",
     "output_type": "stream",
     "text": [
      "1.328 % of word of test data appeared in train data\n",
      "1.545 % of word of Cross Validation appeared in train data\n"
     ]
    }
   ],
   "source": [
    "len1,len2 = get_intersec_text(test_df)\n",
    "print(np.round((len2/len1)*100, 3), \"% of word of test data appeared in train data\")\n",
    "len1,len2 = get_intersec_text(cv_df)\n",
    "print(np.round((len2/len1)*100, 3), \"% of word of Cross Validation appeared in train data\")"
   ]
  },
  {
   "cell_type": "code",
   "execution_count": null,
   "metadata": {},
   "outputs": [],
   "source": []
  },
  {
   "cell_type": "code",
   "execution_count": null,
   "metadata": {},
   "outputs": [],
   "source": []
  },
  {
   "cell_type": "code",
   "execution_count": null,
   "metadata": {},
   "outputs": [],
   "source": []
  },
  {
   "cell_type": "code",
   "execution_count": null,
   "metadata": {},
   "outputs": [],
   "source": []
  },
  {
   "cell_type": "code",
   "execution_count": null,
   "metadata": {},
   "outputs": [],
   "source": []
  },
  {
   "cell_type": "code",
   "execution_count": null,
   "metadata": {},
   "outputs": [],
   "source": []
  },
  {
   "cell_type": "code",
   "execution_count": null,
   "metadata": {},
   "outputs": [],
   "source": []
  },
  {
   "cell_type": "code",
   "execution_count": null,
   "metadata": {},
   "outputs": [],
   "source": []
  }
 ],
 "metadata": {
  "kernelspec": {
   "display_name": "Python 3",
   "language": "python",
   "name": "python3"
  },
  "language_info": {
   "codemirror_mode": {
    "name": "ipython",
    "version": 3
   },
   "file_extension": ".py",
   "mimetype": "text/x-python",
   "name": "python",
   "nbconvert_exporter": "python",
   "pygments_lexer": "ipython3",
   "version": "3.6.5"
  }
 },
 "nbformat": 4,
 "nbformat_minor": 2
}
